{
 "cells": [
  {
   "cell_type": "code",
   "execution_count": 1,
   "metadata": {},
   "outputs": [],
   "source": [
    "#データセットのトークン数を確認する｡\n",
    "#このコードは､多分､不要｡ 軽くtrainを回すと､logの680行目付近に､ 何epoch回すかが出てくるので､それを基準にtrain_tokensを決めると良さそう"
   ]
  },
  {
   "cell_type": "code",
   "execution_count": 2,
   "metadata": {},
   "outputs": [
    {
     "name": "stdout",
     "output_type": "stream",
     "text": [
      "{'input': '../../data/integrated_text.jsonl', 'output_dir': '../../data/tokenizer', 'vocab_size': 5000, 'num_threads': 32, 'model_prefix': 'tokenizer', 'character_coverage': 0.9995, 'model_type': 'unigram', 'train_extremely_large_corpus': True}\n"
     ]
    }
   ],
   "source": [
    "import json\n",
    "import os\n",
    "from tqdm import tqdm\n",
    "import yaml\n",
    "\n",
    "with open('sentence_piece_config.yaml', 'r') as file:\n",
    "    conf= yaml.safe_load(file)\n",
    "print(conf)"
   ]
  },
  {
   "cell_type": "code",
   "execution_count": 3,
   "metadata": {},
   "outputs": [],
   "source": [
    "import sentencepiece as spm\n",
    "model_path=conf[\"output_dir\"]+\"/tokenizer.model\"\n",
    "sp = spm.SentencePieceProcessor(model_file=model_path)"
   ]
  },
  {
   "cell_type": "code",
   "execution_count": 4,
   "metadata": {},
   "outputs": [
    {
     "data": {
      "text/plain": [
       "21"
      ]
     },
     "execution_count": 4,
     "metadata": {},
     "output_type": "execute_result"
    }
   ],
   "source": [
    "text = \"This is an example sentence.\"\n",
    "tokens = sp.encode(text, out_type=str)\n",
    "len(tokens)"
   ]
  },
  {
   "cell_type": "code",
   "execution_count": 5,
   "metadata": {},
   "outputs": [
    {
     "name": "stderr",
     "output_type": "stream",
     "text": [
      "160444it [01:23, 2171.35it/s]"
     ]
    }
   ],
   "source": [
    "total_tokens=0\n",
    "import json\n",
    "from tqdm import tqdm\n",
    "with open(conf[\"input\"],\"r\") as f:\n",
    "    for line in tqdm(f):\n",
    "        text=json.loads(line)[\"text\"]\n",
    "        n_tokens=len(sp.encode(text, out_type=str))\n",
    "        total_tokens+=n_tokens"
   ]
  },
  {
   "cell_type": "code",
   "execution_count": null,
   "metadata": {},
   "outputs": [
    {
     "data": {
      "text/plain": [
       "0.015599369"
      ]
     },
     "execution_count": 14,
     "metadata": {},
     "output_type": "execute_result"
    }
   ],
   "source": [
    "#billion\n",
    "total_tokens/10**9"
   ]
  },
  {
   "cell_type": "code",
   "execution_count": null,
   "metadata": {},
   "outputs": [],
   "source": []
  }
 ],
 "metadata": {
  "kernelspec": {
   "display_name": "scr",
   "language": "python",
   "name": "python3"
  },
  "language_info": {
   "codemirror_mode": {
    "name": "ipython",
    "version": 3
   },
   "file_extension": ".py",
   "mimetype": "text/x-python",
   "name": "python",
   "nbconvert_exporter": "python",
   "pygments_lexer": "ipython3",
   "version": "3.11.8"
  }
 },
 "nbformat": 4,
 "nbformat_minor": 2
}
