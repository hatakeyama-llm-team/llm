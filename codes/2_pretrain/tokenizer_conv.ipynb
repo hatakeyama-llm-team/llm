{
 "cells": [
  {
   "cell_type": "code",
   "execution_count": 8,
   "metadata": {},
   "outputs": [
    {
     "name": "stdout",
     "output_type": "stream",
     "text": [
      "Requirement already satisfied: sentencepiece in /home/hatakeyama/miniconda3/envs/llmeval/lib/python3.11/site-packages (0.1.99)\n"
     ]
    }
   ],
   "source": [
    "# トークナイザーをsentencepieceからhf形式に変換する\n",
    "#!pip install sentencepiece"
   ]
  },
  {
   "cell_type": "code",
   "execution_count": 1,
   "metadata": {},
   "outputs": [
    {
     "data": {
      "text/plain": [
       "('ああ\\nああ', [8722, 8, 2721], 'ああ\\nああ')"
      ]
     },
     "execution_count": 1,
     "metadata": {},
     "output_type": "execute_result"
    }
   ],
   "source": [
    "#元のspmモデルの挙動を確認\n",
    "import sentencepiece as spm\n",
    "#test\n",
    "sp_model_path=\"../../models/hf/step41300/spiece.model\"\n",
    "sp = spm.SentencePieceProcessor(model_file=sp_model_path)\n",
    "txt=\"ああ\\nああ\"\n",
    "tokens=sp.encode(txt)\n",
    "txt,tokens,sp.decode(tokens)"
   ]
  },
  {
   "cell_type": "code",
   "execution_count": 20,
   "metadata": {},
   "outputs": [],
   "source": [
    "import sys\n",
    "sys.path.append(\"../common\")\n",
    "from special_token_list import *\n",
    "from transformers import PreTrainedTokenizerFast,PreTrainedTokenizer,T5Tokenizer\n",
    "\n",
    "sp_model_path=\"../../models/tokenizers/tokenizer_scale200.model\"\n",
    "output_tokenizer = T5Tokenizer(\n",
    "        vocab_file=sp_model_path,\n",
    "        bos_token=BOS_TOKEN,\n",
    "        eos_token=EOS_TOKEN,\n",
    "        unk_token=UNK_TOKEN,\n",
    "        sep_token=SEP_TOKEN,\n",
    "        pad_token=PAD_TOKEN,\n",
    "        cls_token=CLS_TOKEN,\n",
    "        mask_token=MASK_TOKEN,\n",
    "        additional_special_tokens=[\n",
    "            EOD_TOKEN,\n",
    "            #NEWLINE_TOKEN, #いれると逆に、変なスペースが入る\n",
    "        ],  # Note: `NEWLINE_TOKEN` is NOT needed in `additional_special_tokens`.\n",
    "        extra_ids=0,\n",
    "        model_max_length=2048,  # TODO: Remove hard coding and/or magic number.\n",
    "        split_special_tokens=True,\n",
    "    )"
   ]
  },
  {
   "cell_type": "code",
   "execution_count": 21,
   "metadata": {},
   "outputs": [
    {
     "data": {
      "text/plain": [
       "('ああ\\nああ', [8722, 8, 2721, 2], 'ああ\\nああ</s>')"
      ]
     },
     "execution_count": 21,
     "metadata": {},
     "output_type": "execute_result"
    }
   ],
   "source": [
    "tokens=output_tokenizer.encode(txt)\n",
    "txt,tokens,output_tokenizer.decode(tokens)"
   ]
  },
  {
   "cell_type": "code",
   "execution_count": 22,
   "metadata": {},
   "outputs": [
    {
     "data": {
      "text/plain": [
       "('../../models/hf/tokenizer_test/tokenizer_config.json',\n",
       " '../../models/hf/tokenizer_test/special_tokens_map.json',\n",
       " '../../models/hf/tokenizer_test/spiece.model',\n",
       " '../../models/hf/tokenizer_test/added_tokens.json')"
      ]
     },
     "execution_count": 22,
     "metadata": {},
     "output_type": "execute_result"
    }
   ],
   "source": [
    "output_path=\"../../models/hf/tokenizer_test\"\n",
    "output_tokenizer.save_pretrained(output_path)"
   ]
  },
  {
   "cell_type": "code",
   "execution_count": 23,
   "metadata": {},
   "outputs": [
    {
     "name": "stderr",
     "output_type": "stream",
     "text": [
      "/home/hatakeyama/miniconda3/envs/llmeval/lib/python3.11/site-packages/transformers/convert_slow_tokenizer.py:473: UserWarning: The sentencepiece tokenizer that you are converting to a fast tokenizer uses the byte fallback option which is not implemented in the fast tokenizers. In practice this means that the fast version of the tokenizer can produce unknown tokens whereas the sentencepiece version would have converted these unknown tokens into a sequence of byte tokens matching the original piece of text.\n",
      "  warnings.warn(\n"
     ]
    },
    {
     "data": {
      "text/plain": [
       "('ああ\\nああ', [8722, 8722, 2], 'ああ ああ</s>')"
      ]
     },
     "execution_count": 23,
     "metadata": {},
     "output_type": "execute_result"
    }
   ],
   "source": [
    "from transformers import AutoTokenizer\n",
    "tokenizer = AutoTokenizer.from_pretrained(output_path)\n",
    "tokens=tokenizer.encode(txt)\n",
    "txt,tokens,tokenizer.decode(tokens)"
   ]
  },
  {
   "cell_type": "code",
   "execution_count": 24,
   "metadata": {},
   "outputs": [
    {
     "data": {
      "text/plain": [
       "T5TokenizerFast(name_or_path='../../models/hf/tokenizer_test', vocab_size=65000, model_max_length=2048, is_fast=True, padding_side='right', truncation_side='right', special_tokens={'bos_token': '<s>', 'eos_token': '</s>', 'unk_token': '<unk>', 'sep_token': '<SEP>', 'pad_token': '<pad>', 'cls_token': '<CLS>', 'mask_token': '<MASK>', 'additional_special_tokens': ['<EOD>']}, clean_up_tokenization_spaces=True),  added_tokens_decoder={\n",
       "\t0: AddedToken(\"<unk>\", rstrip=False, lstrip=False, single_word=False, normalized=False, special=True),\n",
       "\t1: AddedToken(\"<s>\", rstrip=False, lstrip=False, single_word=False, normalized=False, special=True),\n",
       "\t2: AddedToken(\"</s>\", rstrip=False, lstrip=False, single_word=False, normalized=False, special=True),\n",
       "\t3: AddedToken(\"<pad>\", rstrip=False, lstrip=False, single_word=False, normalized=False, special=True),\n",
       "\t4: AddedToken(\"<CLS>\", rstrip=False, lstrip=False, single_word=False, normalized=False, special=True),\n",
       "\t5: AddedToken(\"<SEP>\", rstrip=False, lstrip=False, single_word=False, normalized=False, special=True),\n",
       "\t6: AddedToken(\"<EOD>\", rstrip=False, lstrip=False, single_word=False, normalized=False, special=True),\n",
       "\t7: AddedToken(\"<MASK>\", rstrip=False, lstrip=False, single_word=False, normalized=False, special=True),\n",
       "}"
      ]
     },
     "execution_count": 24,
     "metadata": {},
     "output_type": "execute_result"
    }
   ],
   "source": [
    "tokenizer"
   ]
  },
  {
   "cell_type": "code",
   "execution_count": 26,
   "metadata": {},
   "outputs": [
    {
     "data": {
      "text/plain": [
       "('ああ\\nああ', [8722, 8, 2721, 2], 'ああ\\nああ</s>')"
      ]
     },
     "execution_count": 26,
     "metadata": {},
     "output_type": "execute_result"
    }
   ],
   "source": [
    "\n",
    "from transformers import T5Tokenizer,T5TokenizerFast\n",
    "tokenizer = T5Tokenizer.from_pretrained(output_path)\n",
    "tokens=tokenizer.encode(txt)\n",
    "txt,tokens,tokenizer.decode(tokens)"
   ]
  },
  {
   "cell_type": "code",
   "execution_count": 27,
   "metadata": {},
   "outputs": [
    {
     "name": "stderr",
     "output_type": "stream",
     "text": [
      "/home/hatakeyama/miniconda3/envs/llmeval/lib/python3.11/site-packages/transformers/convert_slow_tokenizer.py:473: UserWarning: The sentencepiece tokenizer that you are converting to a fast tokenizer uses the byte fallback option which is not implemented in the fast tokenizers. In practice this means that the fast version of the tokenizer can produce unknown tokens whereas the sentencepiece version would have converted these unknown tokens into a sequence of byte tokens matching the original piece of text.\n",
      "  warnings.warn(\n"
     ]
    },
    {
     "data": {
      "text/plain": [
       "('ああ\\nああ', [8722, 8722, 2], 'ああ ああ</s>')"
      ]
     },
     "execution_count": 27,
     "metadata": {},
     "output_type": "execute_result"
    }
   ],
   "source": [
    "tokenizer = T5TokenizerFast.from_pretrained(output_path)\n",
    "tokens=tokenizer.encode(txt)\n",
    "txt,tokens,tokenizer.decode(tokens)"
   ]
  },
  {
   "cell_type": "code",
   "execution_count": null,
   "metadata": {},
   "outputs": [],
   "source": []
  }
 ],
 "metadata": {
  "kernelspec": {
   "display_name": "llmeval",
   "language": "python",
   "name": "python3"
  },
  "language_info": {
   "codemirror_mode": {
    "name": "ipython",
    "version": 3
   },
   "file_extension": ".py",
   "mimetype": "text/x-python",
   "name": "python",
   "nbconvert_exporter": "python",
   "pygments_lexer": "ipython3",
   "version": "3.11.8"
  }
 },
 "nbformat": 4,
 "nbformat_minor": 2
}
