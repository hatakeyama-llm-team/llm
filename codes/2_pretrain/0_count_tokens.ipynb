{
 "cells": [
  {
   "cell_type": "code",
   "execution_count": 8,
   "metadata": {},
   "outputs": [],
   "source": [
    "#データセットのトークン数を確認する｡\n",
    "#このコードは､多分､不要｡ 軽くtrainを回すと､logの680行目付近に､ 何epoch回すかが出てくるので､それを基準にtrain_tokensを決めると良さそう\n",
    "#deepspeed周りでもepochsを高速で計算する関数が実装されている"
   ]
  },
  {
   "cell_type": "code",
   "execution_count": 1,
   "metadata": {},
   "outputs": [
    {
     "name": "stdout",
     "output_type": "stream",
     "text": [
      "{'input': '../../data/text/wikipedia_grad_en_to_ja.jsonl', 'output_dir': '../../data/tokenizers/wiki_250k_vocab', 'vocab_size': 250000, 'num_threads': 32, 'model_prefix': 'tokenizer', 'character_coverage': 0.9995, 'model_type': 'unigram', 'train_extremely_large_corpus': True}\n"
     ]
    }
   ],
   "source": [
    "import json\n",
    "import os\n",
    "from tqdm import tqdm\n",
    "import yaml\n",
    "\n",
    "with open('sentence_piece_config.yaml', 'r') as file:\n",
    "    conf= yaml.safe_load(file)\n",
    "print(conf)"
   ]
  },
  {
   "cell_type": "code",
   "execution_count": 2,
   "metadata": {},
   "outputs": [],
   "source": [
    "import sentencepiece as spm\n",
    "model_path=conf[\"output_dir\"]+\"/tokenizer.model\"\n",
    "sp = spm.SentencePieceProcessor(model_file=model_path)"
   ]
  },
  {
   "cell_type": "code",
   "execution_count": 10,
   "metadata": {},
   "outputs": [
    {
     "name": "stdout",
     "output_type": "stream",
     "text": [
      "5\n",
      "明日の 天気 は 雨 かもしれない "
     ]
    }
   ],
   "source": [
    "text = \"This is an example sentence.\"\n",
    "text=\"吾輩は猫である｡名前はまだない｡\"\n",
    "text=\"明日の天気は雨かもしれない\"\n",
    "tokens = sp.encode(text, out_type=str)\n",
    "print(len(tokens))\n",
    "for token in tokens:\n",
    "    t=sp.decode(token)\n",
    "    print(t,end=\" \")"
   ]
  },
  {
   "cell_type": "code",
   "execution_count": 11,
   "metadata": {},
   "outputs": [
    {
     "data": {
      "text/plain": [
       "'\\n –1'"
      ]
     },
     "execution_count": 11,
     "metadata": {},
     "output_type": "execute_result"
    }
   ],
   "source": [
    "d_tokens=[ 274, 1006,  464,]\n",
    "d_tokens=[8,342,268]\n",
    "sp.decode(d_tokens)"
   ]
  },
  {
   "cell_type": "code",
   "execution_count": 12,
   "metadata": {},
   "outputs": [
    {
     "name": "stderr",
     "output_type": "stream",
     "text": [
      "1999232it [14:50, 2244.70it/s]\n"
     ]
    }
   ],
   "source": [
    "#wikipedia 200万文章で20minほど\n",
    "total_tokens=0\n",
    "import json\n",
    "from tqdm import tqdm\n",
    "with open(conf[\"input\"],\"r\") as f:\n",
    "    for line in tqdm(f):\n",
    "        text=json.loads(line)[\"text\"]\n",
    "        n_tokens=len(sp.encode(text, out_type=str))\n",
    "        total_tokens+=n_tokens"
   ]
  },
  {
   "cell_type": "code",
   "execution_count": 13,
   "metadata": {},
   "outputs": [
    {
     "data": {
      "text/plain": [
       "1.680931483"
      ]
     },
     "execution_count": 13,
     "metadata": {},
     "output_type": "execute_result"
    }
   ],
   "source": [
    "#billion\n",
    "total_tokens/10**9"
   ]
  },
  {
   "cell_type": "code",
   "execution_count": null,
   "metadata": {},
   "outputs": [],
   "source": [
    "\"\"\"\n",
    "メモ\n",
    "sentencepieceでトークナイザー\n",
    "unigram_model_trainer.cc(618) LOG(INFO) EM sub_iter=1 size=5500 obj=31.7274 num_tokens=437324169 num_tokens/piece=79513.5\n",
    "\n",
    "\"\"\"\n"
   ]
  }
 ],
 "metadata": {
  "kernelspec": {
   "display_name": "scr",
   "language": "python",
   "name": "python3"
  },
  "language_info": {
   "codemirror_mode": {
    "name": "ipython",
    "version": 3
   },
   "file_extension": ".py",
   "mimetype": "text/x-python",
   "name": "python",
   "nbconvert_exporter": "python",
   "pygments_lexer": "ipython3",
   "version": "3.11.8"
  }
 },
 "nbformat": 4,
 "nbformat_minor": 2
}
