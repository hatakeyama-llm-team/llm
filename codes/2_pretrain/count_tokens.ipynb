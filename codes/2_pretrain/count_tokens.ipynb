{
 "cells": [
  {
   "cell_type": "code",
   "execution_count": 14,
   "metadata": {},
   "outputs": [],
   "source": [
    "#データセットのトークン数を確認する｡\n",
    "#このコードは､多分､不要｡ 軽くtrainを回すと､logの680行目付近に､ 何epoch回すかが出てくるので､それを基準にtrain_tokensを決めると良さそう\n",
    "#deepspeed周りでもepochsを高速で計算する関数が実装されている"
   ]
  },
  {
   "cell_type": "code",
   "execution_count": 23,
   "metadata": {},
   "outputs": [
    {
     "name": "stdout",
     "output_type": "stream",
     "text": [
      "{'input': '../../data/text/0313mc4_wiki_en.jsonl', 'output_dir': '../../data/tokenizers/mc4_wiki_65k_vocab', 'vocab_size': 65000, 'num_threads': 32, 'model_prefix': 'tokenizer', 'character_coverage': 0.9995, 'model_type': 'unigram', 'train_extremely_large_corpus': True}\n"
     ]
    }
   ],
   "source": [
    "import json\n",
    "import os\n",
    "from tqdm import tqdm\n",
    "import yaml\n",
    "\n",
    "with open('sentence_piece_config.yaml', 'r') as file:\n",
    "    conf= yaml.safe_load(file)\n",
    "print(conf)"
   ]
  },
  {
   "cell_type": "code",
   "execution_count": 24,
   "metadata": {},
   "outputs": [],
   "source": [
    "import sentencepiece as spm\n",
    "model_path=conf[\"output_dir\"]+\"/tokenizer.model\"\n",
    "sp = spm.SentencePieceProcessor(model_file=model_path)"
   ]
  },
  {
   "cell_type": "code",
   "execution_count": 26,
   "metadata": {},
   "outputs": [
    {
     "name": "stdout",
     "output_type": "stream",
     "text": [
      "11\n",
      " 吾 輩 は 猫 である 。 名前 はまだ ない 。 "
     ]
    }
   ],
   "source": [
    "text = \"This is an example sentence.\"\n",
    "text=\"吾輩は猫である｡名前はまだない｡\"\n",
    "#text=\"明日の天気は雨かもしれない\"\n",
    "tokens = sp.encode(text, out_type=str)\n",
    "print(len(tokens))\n",
    "for token in tokens:\n",
    "    t=sp.decode(token)\n",
    "    print(t,end=\" \")"
   ]
  },
  {
   "cell_type": "code",
   "execution_count": 27,
   "metadata": {},
   "outputs": [
    {
     "data": {
      "text/plain": [
       "'\\n月1'"
      ]
     },
     "execution_count": 27,
     "metadata": {},
     "output_type": "execute_result"
    }
   ],
   "source": [
    "d_tokens=[ 274, 1006,  464,]\n",
    "d_tokens=[8,342,268]\n",
    "sp.decode(d_tokens)"
   ]
  },
  {
   "cell_type": "code",
   "execution_count": 28,
   "metadata": {},
   "outputs": [
    {
     "name": "stderr",
     "output_type": "stream",
     "text": [
      "0it [00:00, ?it/s]"
     ]
    },
    {
     "name": "stderr",
     "output_type": "stream",
     "text": [
      "1999232it [21:39, 1538.77it/s]\n"
     ]
    }
   ],
   "source": [
    "#wikipedia 200万文章で20minほど\n",
    "total_tokens=0\n",
    "import json\n",
    "from tqdm import tqdm\n",
    "with open(conf[\"input\"],\"r\") as f:\n",
    "    for line in tqdm(f):\n",
    "        text=json.loads(line)[\"text\"]\n",
    "        n_tokens=len(sp.encode(text, out_type=str))\n",
    "        total_tokens+=n_tokens"
   ]
  },
  {
   "cell_type": "code",
   "execution_count": 30,
   "metadata": {},
   "outputs": [
    {
     "data": {
      "text/plain": [
       "2.856271707"
      ]
     },
     "execution_count": 30,
     "metadata": {},
     "output_type": "execute_result"
    }
   ],
   "source": [
    "#billion\n",
    "print(\"tokens in billion\")\n",
    "print(total_tokens/10**9)"
   ]
  },
  {
   "cell_type": "code",
   "execution_count": null,
   "metadata": {},
   "outputs": [],
   "source": []
  }
 ],
 "metadata": {
  "kernelspec": {
   "display_name": "scr",
   "language": "python",
   "name": "python3"
  },
  "language_info": {
   "codemirror_mode": {
    "name": "ipython",
    "version": 3
   },
   "file_extension": ".py",
   "mimetype": "text/x-python",
   "name": "python",
   "nbconvert_exporter": "python",
   "pygments_lexer": "ipython3",
   "version": "3.11.8"
  }
 },
 "nbformat": 4,
 "nbformat_minor": 2
}
