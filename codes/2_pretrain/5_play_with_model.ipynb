{
 "cells": [
  {
   "cell_type": "code",
   "execution_count": 1,
   "metadata": {},
   "outputs": [
    {
     "name": "stderr",
     "output_type": "stream",
     "text": [
      "/home/hatakeyama/miniconda3/envs/llmeval/lib/python3.11/site-packages/tqdm/auto.py:21: TqdmWarning: IProgress not found. Please update jupyter and ipywidgets. See https://ipywidgets.readthedocs.io/en/stable/user_install.html\n",
      "  from .autonotebook import tqdm as notebook_tqdm\n"
     ]
    }
   ],
   "source": [
    "#作ったモデルを動かしてみる\n",
    "from transformers import AutoModelForCausalLM, AutoTokenizer, pipeline\n",
    "import torch\n",
    "def perplexity(model, tokenizer, text) -> torch.Tensor:\n",
    "    tokenized_input = tokenizer.encode(\n",
    "        text, add_special_tokens=False, return_tensors=\"pt\"\n",
    "    ).to(model.device)\n",
    "    with torch.inference_mode():\n",
    "        output = model(tokenized_input, labels=tokenized_input)\n",
    "    ppl = torch.exp(output.loss)\n",
    "    return ppl.item()\n"
   ]
  },
  {
   "cell_type": "code",
   "execution_count": 2,
   "metadata": {},
   "outputs": [
    {
     "name": "stderr",
     "output_type": "stream",
     "text": [
      "/home/hatakeyama/miniconda3/envs/llmeval/lib/python3.11/site-packages/transformers/convert_slow_tokenizer.py:473: UserWarning: The sentencepiece tokenizer that you are converting to a fast tokenizer uses the byte fallback option which is not implemented in the fast tokenizers. In practice this means that the fast version of the tokenizer can produce unknown tokens whereas the sentencepiece version would have converted these unknown tokens into a sequence of byte tokens matching the original piece of text.\n",
      "  warnings.warn(\n"
     ]
    }
   ],
   "source": [
    "model_path=\"../../models/hf\"\n",
    "model_path=\"../../models/hf/0405_100m_clean_ja\"\n",
    "model_path=\"../../models/hf/0405_2700m_clean_ja\"\n",
    "model = AutoModelForCausalLM.from_pretrained(model_path,device_map=\"auto\")\n",
    "tokenizer = AutoTokenizer.from_pretrained(model_path)\n"
   ]
  },
  {
   "cell_type": "code",
   "execution_count": 3,
   "metadata": {},
   "outputs": [],
   "source": [
    "pipe=pipeline('text-generation',model=model,tokenizer=tokenizer, max_new_tokens=200, repetition_penalty=1.5)"
   ]
  },
  {
   "cell_type": "code",
   "execution_count": 4,
   "metadata": {},
   "outputs": [
    {
     "name": "stderr",
     "output_type": "stream",
     "text": [
      "Setting `pad_token_id` to `eos_token_id`:50256 for open-end generation.\n",
      "Setting `pad_token_id` to `eos_token_id`:50256 for open-end generation.\n"
     ]
    },
    {
     "name": "stdout",
     "output_type": "stream",
     "text": [
      "-------\n",
      "input:  今日はいい\n",
      "perplexity:  246.12860107421875\n",
      "time:  4.663559913635254\n",
      "time/character:  0.018146147523872582\n",
      "output:  今日はいい天気だ。」\n",
      "「え、そうかしら......?」と、半蔵が訊ねた、「さあ、もう大丈夫だよ。」\n",
      "「いやに、どうも可哀そうだよ。」\n",
      "「まア、そんなこと云ってるんだものねえ。」\n",
      "「そりゃ、何んにも仕様がないからな。」\n",
      "「だって、それで好いんだろう? 」\n",
      "「でも、その方が宜いか知れんし、」\n",
      "「じゃ、あの方へ行って見ようじゃないのかい。」\n",
      "「あら、」\n",
      "「うん、」\n",
      "「えゝ、」\n",
      "「えゝ、」\n",
      "「えゝ、」\n",
      "「えゝ、」\n",
      "「えゝ、」\n",
      "「えゝ、」\n",
      "「えゝ、」\n",
      "「えゝ、」\n",
      "「えゝ、」\n",
      "「えゝ、」\n",
      "「えゝ、」\n",
      "「えゝ、」\n",
      "「えゝ、\n"
     ]
    },
    {
     "name": "stderr",
     "output_type": "stream",
     "text": [
      "Setting `pad_token_id` to `eos_token_id`:50256 for open-end generation.\n"
     ]
    },
    {
     "name": "stdout",
     "output_type": "stream",
     "text": [
      "-------\n",
      "input:  富士山は\n",
      "perplexity:  1957.2359619140625\n",
      "time:  3.728470802307129\n",
      "time/character:  0.008322479469435555\n",
      "output:  富士山は、1980年(昭和55年)に静岡県の富士山麓で噴火した。\n",
      "概要・歴史 \n",
      "1724年に駿河湾から太平洋へ抜けるルートが開拓され、「伊豆」と呼ばれるようになると「熱海」「沼津」(現在の御殿場市付近)、「浜松町」、「静岡村」・「小田原町」→「三島町の順に一望できる地域」というように変遷していったとされる。また、この辺りでは、かつて箱根街道と呼ばれていた東海道や山陽道などの交通路が整備されていったと考えられている。しかし、その整備が進むにつれて次第に衰退していくことになる。なお、江戸時代に入ると江戸幕府による参勤交代によって江戸への往来が制限されるようになり、幕府からの朱印状発給も行われるようになったため、幕府の直轄領として幕末まで存続していた。 『Fantastic』(フェノラ)とは、日本のロックバンドであるTHE ALFEEの楽曲を収録したコンピレーションアルバムである。発売元はポニーキャニオン。規格品番:PCCA-3601/CD (CT):VHQLR-1,2009.12\n",
      "解説 \n"
     ]
    },
    {
     "name": "stderr",
     "output_type": "stream",
     "text": [
      "Setting `pad_token_id` to `eos_token_id`:50256 for open-end generation.\n"
     ]
    },
    {
     "name": "stdout",
     "output_type": "stream",
     "text": [
      "-------\n",
      "input:  質問: 今日の天気は? 回答:\n",
      "perplexity:  69.7380599975586\n",
      "time:  3.694216728210449\n",
      "time/character:  0.00875406807632808\n",
      "output:  質問: 今日の天気は? 回答: 10月29日\n",
      "|style=\"text-align:center;background:#afe6bancs.jp/wideline||html, mdf (middle) & \"researcher\" style = 385%(47都道府県で、それぞれ集計した。前回より大幅に増加して行ったが、今回は前年比+1ポイント増の1万回となった。また、今回から「全国」と「関西・沖縄地区」「九州エリア」、「北海道エリア」(いずれも関東地区のみ)、「東海地域」・「近畿圏」の各ブロックを合計すると、「首都圏」では全県に「関東・甲信越地方」を加えた計10府県に拡大されたほか、新たに「中部・北陸各県」を加えれば全国でも拡大されていくことになった。さらに、今回の結果を受けて全国の各市町村には「東京都市圏」が追加されることとなったため、その地域の人口構成や経済規模などを考慮しつつ、各地域ごとに独自の施策を講じていこうという\n"
     ]
    },
    {
     "name": "stderr",
     "output_type": "stream",
     "text": [
      "Setting `pad_token_id` to `eos_token_id`:50256 for open-end generation.\n"
     ]
    },
    {
     "name": "stdout",
     "output_type": "stream",
     "text": [
      "-------\n",
      "input:  批判的な\n",
      "perplexity:  1801.0570068359375\n",
      "time:  3.693235397338867\n",
      "time/character:  0.008262271582413574\n",
      "output:  批判的な意見を述べている。\n",
      "2014年、中国人民政治協商会議は、「中国の人権問題に関する決議」を発表したが、その採択には反対した。 『Fantastic』(フェイト)は、日本のヴィジュアル系ロックバンド・D.C-Zの3rdアルバムである(通算5作目にあたる)アルバムである。\n",
      "概要 \n",
      "前作『Ride on』から8ヶ月ぶりとなる作品で、『Re:Mixed by Rage』、『Switching』『Eternal』と続く作品である。また今作ではボーカルに元JUDY AND MILLIONのギタリストだったKisakiが参加しているほか、バンド初の海外ツアーも敢行している。なお本作は「I'll Be There」「Love Is Alive」、「Butterfly feat. Dyna」といった楽曲も収録されている。\n",
      "収録曲のうち、「My Love You」(作詞/作曲:Dave Me, Linda Godz & Sorrows and Tony Boxes / 作曲:Terry Bull\n"
     ]
    },
    {
     "name": "stderr",
     "output_type": "stream",
     "text": [
      "Setting `pad_token_id` to `eos_token_id`:50256 for open-end generation.\n"
     ]
    },
    {
     "name": "stdout",
     "output_type": "stream",
     "text": [
      "-------\n",
      "input:  大規模言語モデルは\n",
      "perplexity:  2558.0537109375\n",
      "time:  3.721386194229126\n",
      "time/character:  0.00873564834326086\n",
      "output:  大規模言語モデルは、翻訳モデルが翻訳する。\n",
      "翻訳モデルの性能は高く、翻訳精度も向上していると言えるだろうという仮説がある(ただし、翻訳の品質を低下させる効果はない)。 『1987』(ワン・エイトティーン)とは、20世紀フォックス製作による日本映画である。配給収入4億5,630万円と日本公開時の興行収入第1位であり、『キネマ旬報』の「映画ベストテン」では最高視聴率を記録した。また、「日本映画ベストヒット賞」「ブルーリボン賞」、「最優秀監督賞」(『風と共に去りぬ』『風の谷に』、『風とともに去りぬII/OOOAN'S GOD MEMORY!』)、「優秀助演女優賞」(『風と共に去りぬIII/OOOAN’S GOD MEMORY!』(いずれも東映ビデオから移籍して受賞)、『風と共に去りぬIV/OOOAN'S GOD MEMORY!(ともに松竹東和に移籍して受賞した俳優たちを含む)など数々の賞を受賞した女優やスタッフらが出演した作品でもある。\n",
      "あらすじ\n"
     ]
    },
    {
     "name": "stderr",
     "output_type": "stream",
     "text": [
      "Setting `pad_token_id` to `eos_token_id`:50256 for open-end generation.\n"
     ]
    },
    {
     "name": "stdout",
     "output_type": "stream",
     "text": [
      "-------\n",
      "input:  AI研究の問題点は\n",
      "perplexity:  447.3013000488281\n",
      "time:  3.6848831176757812\n",
      "time/character:  0.008336839632750637\n",
      "output:  AI研究の問題点は、その原因が「医療」である。\n",
      "概要 \n",
      "2014年(平成26年)に発足した日本医工学会では、「臨床医学的・科学的知見に基づく治療技術の向上と発展を図りつつ、患者を診療する体制の構築を目指すとともに、患者の健康や生活環境の改善に資するための研究活動を推進していく」としている。また、この取り組みにより、日本の医師不足の解消にも寄与しているという。 『Fantastic』(ビヨンド)とは、日本のロックバンド、D.C.Lのアルバム。2009年3月5日発売。発売元はワーナーミュージック・ジャパン/Sony Music Records。規格品番:UPCY-7801。\n",
      "解説 \n",
      "前作『Pretty』から半年ぶりのアルバムで、『Reasons』『Recording』に続くバンド初のフルアルバムとなる作品となった。今作より、シングルCD+DVD盤のみの発売となり、初回盤には特典としてオリジナルステッカーが封入された。なお、初回生産分に限り特製スリーブケース仕様となっている。\n",
      "\n"
     ]
    },
    {
     "name": "stderr",
     "output_type": "stream",
     "text": [
      "Setting `pad_token_id` to `eos_token_id`:50256 for open-end generation.\n"
     ]
    },
    {
     "name": "stdout",
     "output_type": "stream",
     "text": [
      "-------\n",
      "input:  化学研究の問題点は\n",
      "perplexity:  379.14642333984375\n",
      "time:  3.6792798042297363\n",
      "time/character:  0.008477603235552389\n",
      "output:  化学研究の問題点は、生物兵器の開発が不十分である。\n",
      "2016年4月3日 - 第5回国際科学賞(科学技術部門)受賞。 『Fantastic』(フェノラ)とは、日本のヴィジュアル系ロックバンド・D.C-Zのアルバム作品。2009年にリリース後、同年8月にメジャーレーベル「R&B Records」からCDデビューとなった。\n",
      "概要 \n",
      "前作『Pretty』から約7ヶ月ぶりとなるアルバムで、『Re:mastered to the pillows』『There is another of memories』、『I'll beautiful feature soul”といった楽曲が収録されている。また、「My Love」「Love Song」、「Story You」・「More My Heart」などの楽曲も収録している。\n",
      "収録曲のうち、「愛をさけぶよ」(作詞/作曲:D.C-Z / 編曲:D.C-Z & Drumpet, Machine Lang and Goldberg\n"
     ]
    },
    {
     "name": "stderr",
     "output_type": "stream",
     "text": [
      "Setting `pad_token_id` to `eos_token_id`:50256 for open-end generation.\n"
     ]
    },
    {
     "name": "stdout",
     "output_type": "stream",
     "text": [
      "-------\n",
      "input:  I have a\n",
      "perplexity:  87.33080291748047\n",
      "time:  3.7078945636749268\n",
      "time/character:  0.007270381497401817\n",
      "output:  I have a new several to the people, and which is not be mind.\n",
      "\n",
      "## A Case of Sentence Piecements in Figure: The Problem on Machine Learning (ACM) [1], Novelization for Decision-based Textuality Initiative Representations from Reasonedings of the Association for Computational Linguistics, Volume 2037, pages, 49865。 『Fantastic』(フェラル・トライブ、原題は「」の意)とは、アメリカ合衆国のテレビドラマである。日本では『月曜ドラマランド』にて放送(全話ともTBS系列で放送)されているほか、『水曜ミステリー劇場』『火曜サスペンスシアター』・『金曜プレステージ』、『木曜グランドロマン』などで放送された。また、続編として『土曜プレミアムスペシャル』が制作された。\n",
      "あらすじ \n",
      "ロサンゼルスのとある田舎\n"
     ]
    },
    {
     "name": "stderr",
     "output_type": "stream",
     "text": [
      "Setting `pad_token_id` to `eos_token_id`:50256 for open-end generation.\n"
     ]
    },
    {
     "name": "stdout",
     "output_type": "stream",
     "text": [
      "-------\n",
      "input:  Functional polymers are\n",
      "perplexity:  416.79486083984375\n",
      "time:  3.693687677383423\n",
      "time/character:  0.008433076889003249\n",
      "output:  Functional polymers area)は、2014年の欧州議会議員選挙で当選した。\n",
      "選挙データ \n",
      "投票日:2月3日に行われ、投票率が58.7%となった(前回比69%、前回比58ポイント増)。 『Fantastic』(フェザース・トゥゲア)とは、日本のロックバンドであるTHE ALFEEの楽曲を収録したコンピレーションアルバムである。発売元はワーナーミュージック・ジャパン/Sony Music Records。規格品番:PCCA-1001。規格品番はMHCL-1001。\n",
      "解説 \n",
      "前作『DEARS』から続いたアルバム作品のうち、「愛をさけぶ」と「愛のしるべ」「恋におちて」、「恋のしずく」・「夢みる季節」(いずれも作詞・作曲:高見沢俊彦 編曲:井上鑑)を収録する構成となっている。また、『第2次スーパーロボット大戦Z』『第3次スーパーロボット大戦X』までの全シリーズの主題歌や挿入歌も収録している。なお、本作はCD+DVD盤のみの発売となっており、初回生産分には\n"
     ]
    },
    {
     "name": "stderr",
     "output_type": "stream",
     "text": [
      "/home/hatakeyama/miniconda3/envs/llmeval/lib/python3.11/site-packages/transformers/pipelines/base.py:1101: UserWarning: You seem to be using the pipelines sequentially on GPU. In order to maximize efficiency please use a dataset\n",
      "  warnings.warn(\n",
      "Setting `pad_token_id` to `eos_token_id`:50256 for open-end generation.\n"
     ]
    },
    {
     "name": "stdout",
     "output_type": "stream",
     "text": [
      "-------\n",
      "input:  機能性高分子は\n",
      "perplexity:  19495.78515625\n",
      "time:  3.6844425201416016\n",
      "time/character:  0.00769194680614113\n",
      "output:  機能性高分子は、その効果を低下させる。\n",
      "また、有機合成化学では、ポリチオフェンの重合が阻害されやすくなり、ポリマー化が進むと、触媒作用が低下するため、より強い酸化性を持つ化合物が得られることがある(例:シアノ酢酸)。 『1980』(ワン・エイトティーン)とは、20世紀フォックス製作によるアメリカ映画である。監督はジョン・ウェインドマンで、『ラストエンペラー』以来3年ぶりとなるトニー賞主演男優賞を受賞したトム・クルーズが務めた。第45回アカデミー賞において作品賞を含む6部門にノミネートされた。\n",
      "ストーリー \n",
      "ロサンゼルスに住む少年ジョーはある日突然、恋人に会うためにニューヨークへ旅立つことになる。しかし、ジョーはその旅先で偶然出会った女性と出会うこととなる。\n",
      "キャスト \n",
      "※括弧内は日本語吹替\n",
      " ジョン - (田中敦子)- 演 : サラ・マニングス / 日本語吹替 – 不明\n",
      " 本作の主人公であり親友でもある少女。両親とも離れて暮らす傍ら、様々な仕事をこなしていくうちに次第に惹かれていきてゆく。やがて結婚することを決意し、ジョーと共にサンフランシスコ\n"
     ]
    },
    {
     "name": "stderr",
     "output_type": "stream",
     "text": [
      "Setting `pad_token_id` to `eos_token_id`:50256 for open-end generation.\n"
     ]
    },
    {
     "name": "stdout",
     "output_type": "stream",
     "text": [
      "-------\n",
      "input:  ホンダ フィット 販売\n",
      "perplexity:  741.3174438476562\n",
      "time:  3.694763422012329\n",
      "time/character:  0.00718825568484889\n",
      "output:  ホンダ フィット 販売)\n",
      "2016年4月 - 株式会社アリオ(現・株式会社アリオホールディングス、旧:アリオコーポレーション。現在は解散している)が「アリオ」ブランドで展開する自動車の販売店を分社化し、「アリオ」ブランドの車の販売を開始した。 『恋は恋のメロディ』(こいはなこいのうた)とは、日本の男性アイドルグループであるジャニーズJr.とEXILEによるコラボレーションシングルであり、『愛して♥』から『LOVE LOVE あいして♥』、『Love Loveあいして♥』『Love Loveあいて♥〜I'm anniversary〜』までの楽曲が収録されている。また、この両楽曲にはそれぞれオリジナル音源も収録されているほか、CD-EXTRA仕様となっている。なお、本作はSMAPや関ジャニ∞などのアーティストによってカバーされている他、映画のサウンドトラックにも使用されている。\n",
      "解説 \n",
      "前作より3ヶ月ぶりのリリースとなる2ndアルバム。今作では、ジャニーズ事務所所属の女性アイドルを中心に据えた内容となっており、女性ソロアーティストとしても初の試みとなった。\n",
      "収録曲のうち、カップリング曲として収録されているものは全5曲\n",
      "-------\n",
      "input:  英語: He is a good man. 日本語: \n",
      "perplexity:  44.49373245239258\n",
      "time:  3.730743646621704\n",
      "time/character:  0.007461487293243408\n",
      "output:  英語: He is a good man. 日本語: new supported by the people of most flowing, and which are not to be better for meanings in this papers only without that have researchers' (1987)\n",
      "|style=\"text-align:center;background:#afe6babpsyes/wheelthought \"reviewer\" style = \"white\" alignment & treatment attention was different or developles from Japan(2005年3月4日、日本出版販売協会)ISBN 978-4-862-X。 『Fantastic』(フェザート・トゥエルビターナ)は、日本のヴィジュアル系ロックバンドであるDEARSのアルバムである。\n",
      "概要 \n",
      "前作『Pretty』から続いたバンドサウンドを刷新し、「新しい音楽」を目指すという方向性でスタートしたアルバムであり、『\n"
     ]
    }
   ],
   "source": [
    "import time\n",
    "text_list=[\"今日はいい\",\n",
    "\"富士山は\",\n",
    "\"質問: 今日の天気は? 回答:\",\n",
    "\"批判的な\",\n",
    "\"大規模言語モデルは\",\n",
    "\"AI研究の問題点は\",\n",
    "\"化学研究の問題点は\",\n",
    "\"I have a\",\n",
    "\"Functional polymers are\",\n",
    "\"機能性高分子は\",           \n",
    "\"ホンダ フィット 販売\",\n",
    "\"英語: He is a good man. 日本語: \",\n",
    "]\n",
    "\n",
    "\n",
    "for text in text_list:\n",
    "    perp=perplexity(model,tokenizer,text)\n",
    "    s_time=time.time()\n",
    "    res=pipe(text)[0][\"generated_text\"]\n",
    "    consumed_time=time.time()-s_time\n",
    "    print(\"-------\")\n",
    "    print(\"input: \", text)\n",
    "    print(\"perplexity: \",perp)\n",
    "    print(\"time: \", consumed_time)\n",
    "    print(\"time/character: \", consumed_time/len(res))\n",
    "    print(\"output: \",res)"
   ]
  },
  {
   "cell_type": "code",
   "execution_count": null,
   "metadata": {},
   "outputs": [],
   "source": []
  }
 ],
 "metadata": {
  "kernelspec": {
   "display_name": "scr",
   "language": "python",
   "name": "python3"
  },
  "language_info": {
   "codemirror_mode": {
    "name": "ipython",
    "version": 3
   },
   "file_extension": ".py",
   "mimetype": "text/x-python",
   "name": "python",
   "nbconvert_exporter": "python",
   "pygments_lexer": "ipython3",
   "version": "3.11.8"
  }
 },
 "nbformat": 4,
 "nbformat_minor": 2
}
