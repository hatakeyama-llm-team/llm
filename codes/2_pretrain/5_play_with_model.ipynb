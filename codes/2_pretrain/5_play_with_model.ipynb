{
 "cells": [
  {
   "cell_type": "code",
   "execution_count": 21,
   "metadata": {},
   "outputs": [],
   "source": [
    "#作ったモデルを動かしてみる\n",
    "from transformers import AutoModelForCausalLM, AutoTokenizer, pipeline\n",
    "import torch\n",
    "def perplexity(model, tokenizer, text) -> torch.Tensor:\n",
    "    tokenized_input = tokenizer.encode(\n",
    "        text, add_special_tokens=False, return_tensors=\"pt\"\n",
    "    ).to(model.device)\n",
    "    with torch.inference_mode():\n",
    "        output = model(tokenized_input, labels=tokenized_input)\n",
    "    ppl = torch.exp(output.loss)\n",
    "    return ppl.item()\n"
   ]
  },
  {
   "cell_type": "code",
   "execution_count": 22,
   "metadata": {},
   "outputs": [
    {
     "name": "stderr",
     "output_type": "stream",
     "text": [
      "/home/setup/miniconda3/envs/scr/lib/python3.11/site-packages/transformers/convert_slow_tokenizer.py:550: UserWarning: The sentencepiece tokenizer that you are converting to a fast tokenizer uses the byte fallback option which is not implemented in the fast tokenizers. In practice this means that the fast version of the tokenizer can produce unknown tokens whereas the sentencepiece version would have converted these unknown tokens into a sequence of byte tokens matching the original piece of text.\n",
      "  warnings.warn(\n"
     ]
    }
   ],
   "source": [
    "model_path=\"../../models/hf\"\n",
    "model_path=\"../../models/hf_fin\"\n",
    "#model_path=\"../../models/hf_fin_shuffle\"\n",
    "#model_path=\"../../models/hf_10000\"\n",
    "model_path=\"../../models/hf/0312wiki300m_grad_en_to_ja_fin\"\n",
    "model_path=\"../../models/hf/0313wiki300m_grad_en_to_ja_fin_65k_vocab\"\n",
    "model = AutoModelForCausalLM.from_pretrained(model_path,device_map=\"auto\")\n",
    "tokenizer = AutoTokenizer.from_pretrained(model_path)\n"
   ]
  },
  {
   "cell_type": "code",
   "execution_count": 23,
   "metadata": {},
   "outputs": [],
   "source": [
    "pipe=pipeline('text-generation',model=model,tokenizer=tokenizer, max_new_tokens=200, repetition_penalty=1.5)"
   ]
  },
  {
   "cell_type": "code",
   "execution_count": 26,
   "metadata": {},
   "outputs": [
    {
     "name": "stderr",
     "output_type": "stream",
     "text": [
      "Setting `pad_token_id` to `eos_token_id`:50256 for open-end generation.\n"
     ]
    },
    {
     "name": "stderr",
     "output_type": "stream",
     "text": [
      "Setting `pad_token_id` to `eos_token_id`:50256 for open-end generation.\n"
     ]
    },
    {
     "name": "stdout",
     "output_type": "stream",
     "text": [
      "-------\n",
      "perplexity:  347.31317138671875\n",
      "time:  1.490873098373413\n",
      "time/character:  0.004372061872062795\n",
      "output:  今日はいいよ」と、2019年3月5日に「あの日が来るなら...」というタイトルでCDデビュー。\n",
      " 「君を想う気持ち」(作詞・作曲:つんく 編曲:渡辺拓也)\n",
      " 「あなたがいるから」(編曲:高橋諭一&鈴木俊介)\n",
      " 「恋してるのにかぎってたくなるように」(編曲:山田孝之 & 鈴木亮二)\n",
      " 「愛しすぎて」(編曲:佐藤準弥)\n",
      " 「ひとりじゃない」(編曲:井上鑑)\n",
      " 「ずっとそばにいたい」(編曲:中村泰士)\n",
      " 「好きですか?」(編曲:松浦晃久)\n",
      " 「夢に向かっているとき」(編曲:清水信吾)\n",
      " 「今度こそきっと」(編曲:吉田正志)\n",
      " 「涙そうだから」(編曲:河野伸太郎)\n",
      " 「私だけには言えない」(編曲:橋本和樹)\n",
      " 「もう少しでも愛してる!」(編曲:田中公平)\n",
      " 「もう一度逢いたくて」(\n"
     ]
    },
    {
     "name": "stderr",
     "output_type": "stream",
     "text": [
      "Setting `pad_token_id` to `eos_token_id`:50256 for open-end generation.\n"
     ]
    },
    {
     "name": "stdout",
     "output_type": "stream",
     "text": [
      "-------\n",
      "perplexity:  14341.2353515625\n",
      "time:  1.487334966659546\n",
      "time/character:  0.0038833811139935923\n",
      "output:  富士山は、1970年(昭和45)に「富士登山」としてオープンした。\n",
      "\n",
      "2016年には、「富士山の日」と題するイベントを開催し、同年8月には第3回東京箱根間往復大学駅伝競走大会を挙行したほか、翌々年に開催予定の第1回大会も開催されたが、いずれも中止となった。また、この年から毎年開催される箱根駅伝では、関東地区での開催が決定していることから、本レースへの参戦を見送るファンも多いという。なお、本大会には参加していないものの、優勝賞金や出場回数などの条件付きでの出走権を得ることを目標に掲げている。\n",
      "\n",
      "コース・記録\n",
      "\n",
      "歴代最多勝利数:1,000人/チーム内最高勝率.3% (2位/チーム内最低勝率.2%) ※史上最年長かつ日本人選手による連続得点記録は歴代最長である。\n",
      "\n",
      "脚注\n",
      "\n",
      "注釈\n",
      "\n",
      "出典\n",
      "\n",
      "関連項目 \n",
      " 日本の陸上競技史 - 日本陸上競技選手権大会の記録一覧#日本\n"
     ]
    },
    {
     "name": "stderr",
     "output_type": "stream",
     "text": [
      "Setting `pad_token_id` to `eos_token_id`:50256 for open-end generation.\n"
     ]
    },
    {
     "name": "stdout",
     "output_type": "stream",
     "text": [
      "-------\n",
      "perplexity:  149.58096313476562\n",
      "time:  1.4747555255889893\n",
      "time/character:  0.00270101744613368\n",
      "output:  I have a 2019–present partnership with the American rapper and producer, The New York Times.\n",
      "\n",
      "Discography\n",
      "\n",
      "Studio albums\n",
      "\n",
      "Singles\n",
      "\n",
      "References\n",
      "\n",
      "External links\n",
      "Official website of \"The New Yorker\" at Discogs (in English)\n",
      "Review by David Bowie on YouTube\n",
      "\n",
      "American hip hop musicians 『CLIMAX』(シー・モード、原題:Climax)は、アメリカ合衆国のテレビドラマ。シーズン4第3話「復讐の罠」(2016年5月8日)。日本ではWOWOWで2017年に放送されたが、『刑事コロンボ』シリーズとして放送されなかった(後述参照)。また、Netflixでも放送された他、Huluでは同年から放送されている。\n",
      "\n",
      "あらすじ \n",
      "ロサンゼルス在住の警察官であるジョン・マッカーディと、その妻に先立たれた元恋人のエイミーがいることを知った彼は、FBI捜査官のマイケル・スナイダーと共に捜査に乗り出す。しかし、そこには、かつての恋人\n",
      "-------\n",
      "perplexity:  281.8184509277344\n",
      "time:  1.4736251831054688\n",
      "time/character:  0.0013619456405780672\n",
      "output:  Functional polymers are used to produce a variety of proteins that can be found in the cellular membrane.\n",
      "\n",
      "The protein encoded by this gene is expressed on chromosome 10, which has been shown as an example for mutation-binding and homology between genes with different transcription factors (e.g., maturation or replication) from DNA sequences using genetic modification techniques such as transmembrancing mechanisms like SARSS, T cells, cytoplasmic binding pathways, antibody transport chaining inhibitors, proliferation chains, etc. The function of these enzymes was determined through its role in determining whether it interacted directly into another genome without any other structured RNA sequence; however some studies have demonstrated that there may not exist evidence about how many families were identified within one family: they could also identify two separate organisms together at each stage of their own life cycles after birth. This suggests that all individuals who had previously studied mitochondrial activity would eventually become involved in either parent\n"
     ]
    }
   ],
   "source": [
    "import time\n",
    "text_list=[\"今日はいい\",\n",
    "\"富士山は\",\n",
    "#\"質問: 今日の天気は? 回答:\",\n",
    "\"I have a\",\n",
    "\"Functional polymers are\"           \n",
    "]\n",
    "\n",
    "for text in text_list:\n",
    "    perp=perplexity(model,tokenizer,text)\n",
    "    s_time=time.time()\n",
    "    res=pipe(text)[0][\"generated_text\"]\n",
    "    consumed_time=time.time()-s_time\n",
    "    print(\"-------\")\n",
    "    print(\"perplexity: \",perp)\n",
    "    print(\"time: \", consumed_time)\n",
    "    print(\"time/character: \", consumed_time/len(res))\n",
    "    print(\"output: \",res)"
   ]
  },
  {
   "cell_type": "code",
   "execution_count": null,
   "metadata": {},
   "outputs": [],
   "source": []
  },
  {
   "cell_type": "code",
   "execution_count": null,
   "metadata": {},
   "outputs": [],
   "source": []
  }
 ],
 "metadata": {
  "kernelspec": {
   "display_name": "scr",
   "language": "python",
   "name": "python3"
  },
  "language_info": {
   "codemirror_mode": {
    "name": "ipython",
    "version": 3
   },
   "file_extension": ".py",
   "mimetype": "text/x-python",
   "name": "python",
   "nbconvert_exporter": "python",
   "pygments_lexer": "ipython3",
   "version": "3.11.8"
  }
 },
 "nbformat": 4,
 "nbformat_minor": 2
}
