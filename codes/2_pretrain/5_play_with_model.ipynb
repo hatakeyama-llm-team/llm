{
 "cells": [
  {
   "cell_type": "code",
   "execution_count": null,
   "metadata": {},
   "outputs": [],
   "source": [
    "#作ったモデルを動かしてみる\n",
    "from transformers import AutoModelForCausalLM, AutoTokenizer, pipeline\n",
    "import torch\n",
    "def perplexity(model, tokenizer, text) -> torch.Tensor:\n",
    "    tokenized_input = tokenizer.encode(\n",
    "        text, add_special_tokens=False, return_tensors=\"pt\"\n",
    "    ).to(model.device)\n",
    "    with torch.inference_mode():\n",
    "        output = model(tokenized_input, labels=tokenized_input)\n",
    "    ppl = torch.exp(output.loss)\n",
    "    return ppl.item()\n"
   ]
  },
  {
   "cell_type": "code",
   "execution_count": null,
   "metadata": {},
   "outputs": [],
   "source": [
    "\n",
    "model_path=\"../../models/hf/1_step30800\"\n",
    "#model_path= \"llm-jp/llm-jp-13b-v1.0\"\n",
    "\n",
    "model_dict={\n",
    "\"llmjp13b\":\"llm-jp/llm-jp-13b-v1.0\",\n",
    "\"1_step30800\":\"../../models/hf/1_step30800\",\n",
    "\"2_step37800\":\"../../models/hf/2_step37800\",\n",
    "\"3_step43400\":\"../../models/hf/3_step43400\",\n",
    "\"4_step49700\":\"../../models/hf/4_step49700\",\n",
    "\"5_step58800\":\"../../models/hf/5_step58800\",\n",
    "}\n"
   ]
  },
  {
   "cell_type": "code",
   "execution_count": null,
   "metadata": {},
   "outputs": [],
   "source": [
    "model_path=model_dict[\"5_step58800\"]"
   ]
  },
  {
   "cell_type": "code",
   "execution_count": null,
   "metadata": {},
   "outputs": [],
   "source": [
    "\n",
    "def init_pipe(model_name):\n",
    "    model_path=model_dict[model_name]\n",
    "    model = AutoModelForCausalLM.from_pretrained(model_path,device_map=\"auto\")\n",
    "    tokenizer = AutoTokenizer.from_pretrained(model_path)\n",
    "    pipe=pipeline('text-generation',model=model,tokenizer=tokenizer, \n",
    "                max_new_tokens=100, \n",
    "                repetition_penalty=1.2,\n",
    "                temperature=0.7,\n",
    "                )\n",
    "    return model,tokenizer,pipe"
   ]
  },
  {
   "cell_type": "code",
   "execution_count": null,
   "metadata": {},
   "outputs": [],
   "source": [
    "import time\n",
    "\n",
    "text_list=[\n",
    "\"富士山は\",\n",
    "\"化学研究の問題点は\",\n",
    "\"Functional polymers are\",\n",
    "\"Bioinformatics is\",\n",
    "\"フィボナッチ数列を生成するPythonのコードは次のとおりです｡\\n def\",\n",
    "\"ホンダ フィット 販売\",\n",
    "\"英語: He is a good man. 日本語: \",\n",
    "\"英語: What is the problem of developing LLM in Japan? 日本語: \",\n",
    "\"Q: 日本の首都は? A:\",\n",
    "\"Q: ドラえもんの友達は? A:\",\n",
    "\"Q: 純粋理性批判はたぬきに理解できますか? A:\",\n",
    "\"Q: ChatGPTとはなんですか? A:\",\n",
    "\"Q: 俳句を書いてください A:\",\n",
    "\"Q: 日本の総理大臣は? A:\",\n",
    "]\n",
    "\n",
    "out_dict={}\n",
    "\n",
    "for model_name in model_dict.keys():\n",
    "    print(model_name)\n",
    "    model,tokenizer,pipe=init_pipe(model_name)\n",
    "    model_output_dict={}\n",
    "    for text in text_list:\n",
    "        perp=perplexity(model,tokenizer,text)\n",
    "        s_time=time.time()\n",
    "        res=pipe(text)[0][\"generated_text\"]\n",
    "        consumed_time=time.time()-s_time\n",
    "        model_output_dict[text]={\n",
    "            \"perplexity\":perp,\n",
    "            \"output\":res\n",
    "        }\n",
    "        print(\"-------\")\n",
    "        print(\"input: \", text.replace(\"\\n\",\"\"))\n",
    "        print(\"perplexity: \",perp)\n",
    "        print(\"time: \", consumed_time)\n",
    "        print(\"time/character: \", consumed_time/len(res))\n",
    "        print(\"output: \",res.replace(\"\\n\",\"\"))\n",
    "    out_dict[model_name]=model_output_dict"
   ]
  },
  {
   "cell_type": "code",
   "execution_count": null,
   "metadata": {},
   "outputs": [],
   "source": [
    "import json\n",
    "#with open(\"test/output.json\",\"w\") as f:\n",
    "#    json.dump(out_dict,f,indent=4,ensure_ascii=False)"
   ]
  },
  {
   "cell_type": "code",
   "execution_count": null,
   "metadata": {},
   "outputs": [],
   "source": [
    "import pandas as pd\n",
    "df=pd.DataFrame(out_dict)\n",
    "\n",
    "perp_dict={}\n",
    "text_dict={}\n",
    "for model_name in model_dict.keys():\n",
    "    temp_dict={}\n",
    "    temp_dict2={}\n",
    "    for text in text_list:\n",
    "        temp_dict[text]=out_dict[model_name][text][\"perplexity\"]\n",
    "        temp_dict2[text]=out_dict[model_name][text][\"output\"][len(text):]\n",
    "    perp_dict[model_name]=temp_dict\n",
    "    text_dict[model_name]=temp_dict2\n",
    "\n",
    "df_perp=pd.DataFrame(perp_dict)\n",
    "df_perp"
   ]
  },
  {
   "cell_type": "code",
   "execution_count": null,
   "metadata": {},
   "outputs": [],
   "source": [
    "df_text=pd.DataFrame(text_dict)\n",
    "df_text"
   ]
  },
  {
   "cell_type": "code",
   "execution_count": null,
   "metadata": {},
   "outputs": [],
   "source": []
  }
 ],
 "metadata": {
  "kernelspec": {
   "display_name": "scr",
   "language": "python",
   "name": "python3"
  },
  "language_info": {
   "codemirror_mode": {
    "name": "ipython",
    "version": 3
   },
   "file_extension": ".py",
   "mimetype": "text/x-python",
   "name": "python",
   "nbconvert_exporter": "python",
   "pygments_lexer": "ipython3",
   "version": "3.11.8"
  }
 },
 "nbformat": 4,
 "nbformat_minor": 2
}
