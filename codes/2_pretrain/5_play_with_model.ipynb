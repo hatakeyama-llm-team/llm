{
 "cells": [
  {
   "cell_type": "code",
   "execution_count": 1,
   "metadata": {},
   "outputs": [
    {
     "name": "stderr",
     "output_type": "stream",
     "text": [
      "/home/setup/miniconda3/envs/scr/lib/python3.11/site-packages/tqdm/auto.py:21: TqdmWarning: IProgress not found. Please update jupyter and ipywidgets. See https://ipywidgets.readthedocs.io/en/stable/user_install.html\n",
      "  from .autonotebook import tqdm as notebook_tqdm\n"
     ]
    }
   ],
   "source": [
    "#作ったモデルを動かしてみる\n",
    "from transformers import AutoModelForCausalLM, AutoTokenizer, pipeline\n",
    "import torch\n",
    "def perplexity(model, tokenizer, text) -> torch.Tensor:\n",
    "    tokenized_input = tokenizer.encode(\n",
    "        text, add_special_tokens=False, return_tensors=\"pt\"\n",
    "    ).to(model.device)\n",
    "    with torch.inference_mode():\n",
    "        output = model(tokenized_input, labels=tokenized_input)\n",
    "    ppl = torch.exp(output.loss)\n",
    "    return ppl.item()\n"
   ]
  },
  {
   "cell_type": "code",
   "execution_count": 3,
   "metadata": {},
   "outputs": [
    {
     "name": "stderr",
     "output_type": "stream",
     "text": [
      "/home/setup/miniconda3/envs/scr/lib/python3.11/site-packages/torch/_utils.py:776: UserWarning: TypedStorage is deprecated. It will be removed in the future and UntypedStorage will be the only storage class. This should only matter to you if you are using storages directly.  To access UntypedStorage directly, use tensor.untyped_storage() instead of tensor.storage()\n",
      "  return self.fget.__get__(instance, owner)()\n",
      "You set `add_prefix_space`. The tokenizer needs to be converted from the slow tokenizers\n",
      "/home/setup/miniconda3/envs/scr/lib/python3.11/site-packages/transformers/convert_slow_tokenizer.py:550: UserWarning: The sentencepiece tokenizer that you are converting to a fast tokenizer uses the byte fallback option which is not implemented in the fast tokenizers. In practice this means that the fast version of the tokenizer can produce unknown tokens whereas the sentencepiece version would have converted these unknown tokens into a sequence of byte tokens matching the original piece of text.\n",
      "  warnings.warn(\n"
     ]
    }
   ],
   "source": [
    "model_path=\"../../models/hf\"\n",
    "model_path=\"../../models/hf_fin\"\n",
    "#model_path=\"../../models/hf_fin_shuffle\"\n",
    "#model_path=\"../../models/hf_10000\"\n",
    "model_path=\"../../models/hf/0312wiki300m_grad_en_to_ja_fin\"\n",
    "model_path=\"../../models/hf/0313wiki300m_grad_en_to_ja_fin_65k_vocab\"\n",
    "model_path=\"../../models/hf/0314gpt_mc4_wiki_en\"\n",
    "model = AutoModelForCausalLM.from_pretrained(model_path,device_map=\"auto\")\n",
    "tokenizer = AutoTokenizer.from_pretrained(model_path)\n"
   ]
  },
  {
   "cell_type": "code",
   "execution_count": 4,
   "metadata": {},
   "outputs": [],
   "source": [
    "pipe=pipeline('text-generation',model=model,tokenizer=tokenizer, max_new_tokens=200, repetition_penalty=1.5)"
   ]
  },
  {
   "cell_type": "code",
   "execution_count": 13,
   "metadata": {},
   "outputs": [
    {
     "name": "stderr",
     "output_type": "stream",
     "text": [
      "/home/setup/miniconda3/envs/scr/lib/python3.11/site-packages/transformers/pipelines/base.py:1157: UserWarning: You seem to be using the pipelines sequentially on GPU. In order to maximize efficiency please use a dataset\n",
      "  warnings.warn(\n",
      "Setting `pad_token_id` to `eos_token_id`:50256 for open-end generation.\n",
      "Setting `pad_token_id` to `eos_token_id`:50256 for open-end generation.\n"
     ]
    },
    {
     "name": "stdout",
     "output_type": "stream",
     "text": [
      "-------\n",
      "input:  今日はいい\n",
      "perplexity:  2121.0458984375\n",
      "time:  2.01485538482666\n",
      "time/character:  0.002367632649620047\n",
      "output:  今日はいい天気ですね。\n",
      "2016/3月5日 (水) | 固定リンク The following is a list of notable people who have been killed in the United States. One person, John \"John\" Johnson was born on November 7th and raised to an American family at age three or four years old when he began his career as one-time U.S. Representative from New York City's Lower East Side; another woman named Robert Astorson became active during World War II with her husband James Biggs Jr. Sr. after being arrested by President Obama for failing health reasons due to illnesses that she had died before their divorce proceedings were held there so they could not be treated properly because it did exist until June 4–8 September 9:15 pm EDT – October 1st Placement Day - January 1nd Placency & March 2rd Placer Listing Committee Report Notice Article About whether anybody else has survived this article\n"
     ]
    },
    {
     "name": "stderr",
     "output_type": "stream",
     "text": [
      "Setting `pad_token_id` to `eos_token_id`:50256 for open-end generation.\n"
     ]
    },
    {
     "name": "stdout",
     "output_type": "stream",
     "text": [
      "-------\n",
      "input:  富士山は\n",
      "perplexity:  1864.47900390625\n",
      "time:  1.4187180995941162\n",
      "time/character:  0.0025379572443544117\n",
      "output:  富士山は、富士山の山頂から富士山を眺めることが出来る。\n",
      "富士登山口(標高1,260m)からの眺望と富士山の展望をお楽しみください!\n",
      "富士山の絶景が望める富士山を望む富士山を望む富士山を望む富士山を望む富士山を望む富士山を望む富士山を望む富士山を望む富士山を望む富士山を望む富士山を望む富士山を望む富士山を望む富士山を望む富士山を望む富士山を望む富士山を望む富士山を望む富士山を望む富士山を望む富士山を望む富士山を望む富士山を望む富士山を望む富士山を望む富士山を望む富士山を望む富士山を望む富士山を望む富士山を望む富士山を望む富士山を望む富士山を望む富士山を望む富士山を望む富士山を望む富士山を望む富士山を望む富士山を望む富士山を望む富士山を望む富士山を望む富士山を望む富士山を望む富士山を望む富士山を望む富士山を望む富士山を望む富士山を望む富士山を望む富士山を望む富士山を望む富士山を望む富士山を望む富士山を望む富士山を望む富士山を望む富士山を望む富士山を望む富士山を望む富士山を望む富士山を望む富士山を望む富士山を望む富士山を望む富士山を望む富士山を望む富士山を望む富士山を望む富士山を望む富士山を望む富士山を望む富士山を望む富士山を望む富士山を望む富士山を望む富士山を望む富士山を望む富士山を望む富士山を望む富士山\n"
     ]
    },
    {
     "name": "stderr",
     "output_type": "stream",
     "text": [
      "Setting `pad_token_id` to `eos_token_id`:50256 for open-end generation.\n"
     ]
    },
    {
     "name": "stdout",
     "output_type": "stream",
     "text": [
      "-------\n",
      "input:  質問: 今日の天気は? 回答:\n",
      "perplexity:  53.6387825012207\n",
      "time:  1.2993927001953125\n",
      "time/character:  0.0011780532186720875\n",
      "output:  質問: 今日の天気は? 回答:\n",
      "2017/3月5日 (水) | 固定リンク The following is a list of notable people who have been killed in the United States. They are listed on their lists, including those born to one another and others from other countries such as Canada or France; they were also known for being murdered by American soldiers at Fort Washington State Prisons during World War II when it was discovered that many Americans had died before them could be executed after an investigation into what would become more importantly documented events around America's history than any individual person he has ever seen since his death there may not exist anymore because this date remains unclear whether these deaths can occur if someone else dies alive due to illnesses related with \"they\" status which might cause serious injury but does not constitute some evidence about how much time between individuals involved themselves will likely die while trying so well-being survivors should still survive without having survived her life unless she cannot return again until all accounts suggest no further information regarding\n"
     ]
    },
    {
     "name": "stderr",
     "output_type": "stream",
     "text": [
      "Setting `pad_token_id` to `eos_token_id`:50256 for open-end generation.\n"
     ]
    },
    {
     "name": "stdout",
     "output_type": "stream",
     "text": [
      "-------\n",
      "input:  批判的な\n",
      "perplexity:  1079.4312744140625\n",
      "time:  1.2949819564819336\n",
      "time/character:  0.0031279757402945256\n",
      "output:  批判的な意見もあるようですが、それは「批判的」なのかもしれません。\n",
      "「批判的」という表現は、批判の自由を尊重する意味と、批判者の自由を尊重することにあるようです。「批判的」という言葉の意味が、批判者にとって、より明確に感じられるものだと思います。(中略)\n",
      "「批判的」とは、「批判的」という意味で、批判者が、批判者に、あるいは批判者に対して、批判者の立場や立場によって、批判されるべきことを指す言葉です(中略)。\n",
      "例えば、批判者は、批判者に対し、批判者の立場・立場に基づいて、批判を行う場合が多いのですが、批判者は、批判者の立場から、批判者の立場にあったり、批判者の立場からの批判を受ける場合に、批判者の立場である「批判的」なものとして捉えることがあるそうです。\n",
      "批判者は、批判者の立場ではなく、批判者の立場であり、批判者の立場でもあるということですね!\n",
      "批判者は、批判者の立場であることを理解していると思いますので、批判者の立場\n"
     ]
    },
    {
     "name": "stderr",
     "output_type": "stream",
     "text": [
      "Setting `pad_token_id` to `eos_token_id`:50256 for open-end generation.\n"
     ]
    },
    {
     "name": "stdout",
     "output_type": "stream",
     "text": [
      "-------\n",
      "input:  大規模言語モデルは\n",
      "perplexity:  4603.6015625\n",
      "time:  1.2992966175079346\n",
      "time/character:  0.001367680650008352\n",
      "output:  大規模言語モデルは、2016年4月3日から開始する。\n",
      "「https://ja.wikipedia.org/w/index.php?title=大英翻訳&oldid=7859」から取得 The following is a list of notable American television series broadcast on NBC in the United States, and other countries that aired from November to December each year: \"The Great Depression\" (which was first airing at CBS Studios), which airs as part-time for ABC's daytime soap opera show America Today! with its original programming partner; however it has been shown since September or October when Fox announced plans were made by Warner Bros. Television Network News Channel during this period before being canceled due to low ratings over time after their cancellation date expired early January through March–April where they would be rerun again until February because there had not yet reached an agreement between them if he could have returned his contract without any further changes regarding whether such change occurred prior to June—they did\n"
     ]
    },
    {
     "name": "stderr",
     "output_type": "stream",
     "text": [
      "Setting `pad_token_id` to `eos_token_id`:50256 for open-end generation.\n"
     ]
    },
    {
     "name": "stdout",
     "output_type": "stream",
     "text": [
      "-------\n",
      "input:  AI研究の問題点は\n",
      "perplexity:  6677.31201171875\n",
      "time:  1.312608003616333\n",
      "time/character:  0.0026517333406390568\n",
      "output:  AI研究の問題点は、研究者の視点から、研究者がどのようにして科学的根拠に基づいて科学的に証明されたかを明らかにすることである。\n",
      "1)学術的な証拠に基づいた科学的根拠に基づく科学的根拠に基づき科学的根拠に基づいて科学的根拠に基づいて科学的根拠に基づいて科学的根拠に基づいて科学的根拠に基づいて科学的根拠に基づいて科学的根拠に基づいて科学的根拠に基づいて科学的根拠に基づいて科学的根拠に沿って科学的根拠に従って科学的根拠に基づいて科学的根拠に基づいて科学的根拠に基づいて科学的根拠に基づいて科学的根拠に基づいて科学的根拠に基づいて科学的根拠に基づいて科学的根拠に基づいて科学的根拠に基づいて科学的根拠に基づいて科学的根拠に基づいて科学的根拠に基づいて科学的根拠に基づいて科学的根拠に基づいて科学的根拠に基づいて科学的根拠に基づいて科学的根拠に基づいて科学的根拠に基づいて科学的根拠に基づいて科学的根拠に基づいて科学的根拠に基づいて科学的根拠に基づいて科学的根拠に基づいて科学的根拠に基づいて科学的根拠に基づいて科学的根拠に基づいて科学的根拠に基づいて科学的根拠に基づいて科学的根拠に基づいて科学\n"
     ]
    },
    {
     "name": "stderr",
     "output_type": "stream",
     "text": [
      "Setting `pad_token_id` to `eos_token_id`:50256 for open-end generation.\n"
     ]
    },
    {
     "name": "stdout",
     "output_type": "stream",
     "text": [
      "-------\n",
      "input:  化学研究の問題点は\n",
      "perplexity:  4248.69921875\n",
      "time:  1.2915165424346924\n",
      "time/character:  0.0021137750285346846\n",
      "output:  化学研究の問題点は、化学とバイオの融合によって、バイオテクノロジーがどのように変化するかを明らかにすることである。\n",
      "バイオテクノロジーは、バイオテクノロジーにどのような影響を与えるかという問題であり、バイオテクノロジーそのものに対する関心も高まっている。バイオテクノロジーとは、バイオテクノロジーとは何かということだ。「バイオテクノロジー」という言葉には、「バイオテクノロジー」の意味があるのだそうだ。(「バイオテクノロジー」の意味については、以下参照)\n",
      "バイオテクノロジー(バイオテクノロジー)とは、バイオテクノロジーでいうところのバイオテクノロジーのことを指す。バイオテクノロジーとは、バイオテクノロジーのことをいっていることだ。バイオテクノロジーとは、バイオテクノロジーについて語ることを意味する言葉だが、バイオテクノロジーとは、バイオテクノロジーに関する用語として使われることが多いようだ。バイオテクノロジーというのは、バイオテクノロジーについての用語なのである。バイオテクノロジーとは、バイオテクノロジーの概要や意味合いのようなものを意味しているものだから、バイオテクノロジーの説明文をそのまま伝えることで、バイオテクノロジーの本質的な理解を深めることができるだろうと思うのだが・・・\n",
      "バイオテクノロジーとは、バイオテクノロジーの仕組みを表す言葉でもあるのだろう。バイオテクノロジーとは、バイオテクノロジーの歴史\n"
     ]
    },
    {
     "name": "stderr",
     "output_type": "stream",
     "text": [
      "Setting `pad_token_id` to `eos_token_id`:50256 for open-end generation.\n"
     ]
    },
    {
     "name": "stdout",
     "output_type": "stream",
     "text": [
      "-------\n",
      "input:  I have a\n",
      "perplexity:  276.3694152832031\n",
      "time:  1.4475955963134766\n",
      "time/character:  0.001434683445305725\n",
      "output:  I have a 10-round, and then they are able to reach their own speeds.\n",
      "The first two teams were formed in early December of that year by former head coach John McEvoy at The University of Toronto where he was named as one team's best player ever since his arrival on September 27th when it became known for its \"most successful\" performance with an undefeated record attendance (4–3). He finished second behind fellow Canadian Footballer Tony Bellimore who had been selected from Canada after being fired following this season due to poor results during which time MacKenzie went into retirement because there is no doubt about him leaving any club or staff members involved within them; however, some fans believe these players will be unable to compete against each other if not all games go out together again but instead play every game before returning home once more so than last week later – while still playing only three matches per match between Vancouver Lions FC and Edmonton Eskimos: A few days ago\n"
     ]
    },
    {
     "name": "stderr",
     "output_type": "stream",
     "text": [
      "Setting `pad_token_id` to `eos_token_id`:50256 for open-end generation.\n"
     ]
    },
    {
     "name": "stdout",
     "output_type": "stream",
     "text": [
      "-------\n",
      "input:  Functional polymers are\n",
      "perplexity:  2335.94580078125\n",
      "time:  1.300295114517212\n",
      "time/character:  0.001138612184340816\n",
      "output:  Functional polymers are the most widely used in organic chemistry.\n",
      "The first step is to develop a new method of synthesising and refinement, which allows for high-quality production as well as an application that can be applied with different methods such as electrochemistry or biomedical applications (e.g.: \"the effect\"). The second steps were developed by Drexel et al. at Heidelberg University where he was awarded his Ph.D degree from Cornell College on behalf of MIT's Nobel Prize winning research fellowship program; however this has not been proven since it had become known today due to its lack of funding available through scientific institutions like universities around them before their creation there have already begun work into developing molecular biology rather than using other techniques including microbiological studies conducted during World War II involving nuclear reactor technology programs led many scientists who worked together over time after they became involved within these fields because some researchers did not want more understanding how much effort would happen if we could do so when our lab needs us\n"
     ]
    },
    {
     "name": "stderr",
     "output_type": "stream",
     "text": [
      "Setting `pad_token_id` to `eos_token_id`:50256 for open-end generation.\n"
     ]
    },
    {
     "name": "stdout",
     "output_type": "stream",
     "text": [
      "-------\n",
      "input:  機能性高分子は\n",
      "perplexity:  1740.2838134765625\n",
      "time:  1.2984933853149414\n",
      "time/character:  0.003033863049801265\n",
      "output:  機能性高分子は、その構造を「高分子」と呼びます。\n",
      "この構造の構造が、分子量や分子量によって決定されるので、分子量が多ければ多いほど、分子量も大きくなりやすいという特徴があります。「高分子」とは、分子量が多いことで、分子量が多くなる仕組みのことを言います(図1)。\n",
      "例えば、分子量の多いことに加えて、分子量が少ないことがあげられます。(図2)、分子量が少なくなると、分子量が増えにくくなります。そのために、分子量を多くする機構が必要で、「高分子」には、分子量を増やさない機構が必要です。また、分子量を増やすために、分子量を少なくしたり、分子量を減らさなかったりすると、分子量が増えるため、分子量を減らすことができます。さらに、分子量の増加を抑えるための工夫として、分子量を増やさないようにするため、分子量を増やして、分子量を増やしていきます。\n",
      "このように、分子量が増えたり減らすことにより、分子量が増加しやすくなります。分子量が増えてしまうと、分子量が減って\n",
      "-------\n",
      "input:  ホンダ フィット 販売\n",
      "perplexity:  137.8208770751953\n",
      "time:  1.3058853149414062\n",
      "time/character:  0.0025555485615291708\n",
      "output:  ホンダ フィット 販売\n",
      "【送料無料】 【2019年モデル】【メーカー正規カスタム品、日本仕様・代引き決済不可】[Callaway/キャロウェイ]XR-685 アイアン[#3,#4][NSプロモーダス3ツアー170シャフト] スチールシャフト [Titleist]【■ACC■】 ■マルマンゴルフ(MARVEL)ドライバー (フジクラ社製)(保証書付き)[トゥルーテンパーDynamicGoldAMT](グラファイトデザイン TourAD GP-600Dカーボンシャフト)【smtb-s】(タイトリスト TITLEIST ユーティリティー ATTAS G7 IRON単品(#4～PW) N.S.PRO Regio Formula Bランク 男性用 右利き フェアウェイウッド FW Titleist 中古 Cランク (フレックスR) プロギア eggオリジナルカーボン M3 U4 NS PRO TYPE R 中古ゴルフクラブ Second Hand!中古 Dランク (フレックスSR) オノフ ONOFF FUBUKI Ai II SMOOTH KICK MPZELIR PING TOUR AD J16-U SR 男性用\n"
     ]
    }
   ],
   "source": [
    "import time\n",
    "text_list=[\"今日はいい\",\n",
    "\"富士山は\",\n",
    "\"質問: 今日の天気は? 回答:\",\n",
    "\"批判的な\",\n",
    "\"大規模言語モデルは\",\n",
    "\"AI研究の問題点は\",\n",
    "\"化学研究の問題点は\",\n",
    "\"I have a\",\n",
    "\"Functional polymers are\",\n",
    "\"機能性高分子は\",           \n",
    "\"ホンダ フィット 販売\",\n",
    "]\n",
    "\n",
    "for text in text_list:\n",
    "    perp=perplexity(model,tokenizer,text)\n",
    "    s_time=time.time()\n",
    "    res=pipe(text)[0][\"generated_text\"]\n",
    "    consumed_time=time.time()-s_time\n",
    "    print(\"-------\")\n",
    "    print(\"input: \", text)\n",
    "    print(\"perplexity: \",perp)\n",
    "    print(\"time: \", consumed_time)\n",
    "    print(\"time/character: \", consumed_time/len(res))\n",
    "    print(\"output: \",res)"
   ]
  },
  {
   "cell_type": "code",
   "execution_count": null,
   "metadata": {},
   "outputs": [],
   "source": []
  },
  {
   "cell_type": "code",
   "execution_count": null,
   "metadata": {},
   "outputs": [],
   "source": []
  }
 ],
 "metadata": {
  "kernelspec": {
   "display_name": "scr",
   "language": "python",
   "name": "python3"
  },
  "language_info": {
   "codemirror_mode": {
    "name": "ipython",
    "version": 3
   },
   "file_extension": ".py",
   "mimetype": "text/x-python",
   "name": "python",
   "nbconvert_exporter": "python",
   "pygments_lexer": "ipython3",
   "version": "3.11.8"
  }
 },
 "nbformat": 4,
 "nbformat_minor": 2
}
