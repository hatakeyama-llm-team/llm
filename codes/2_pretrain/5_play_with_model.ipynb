{
 "cells": [
  {
   "cell_type": "code",
   "execution_count": 1,
   "metadata": {},
   "outputs": [
    {
     "name": "stderr",
     "output_type": "stream",
     "text": [
      "/home/hatakeyama/miniconda3/envs/llmeval/lib/python3.11/site-packages/tqdm/auto.py:21: TqdmWarning: IProgress not found. Please update jupyter and ipywidgets. See https://ipywidgets.readthedocs.io/en/stable/user_install.html\n",
      "  from .autonotebook import tqdm as notebook_tqdm\n"
     ]
    }
   ],
   "source": [
    "#作ったモデルを動かしてみる\n",
    "from transformers import AutoModelForCausalLM, AutoTokenizer, pipeline\n",
    "import torch\n",
    "def perplexity(model, tokenizer, text) -> torch.Tensor:\n",
    "    tokenized_input = tokenizer.encode(\n",
    "        text, add_special_tokens=False, return_tensors=\"pt\"\n",
    "    ).to(model.device)\n",
    "    with torch.inference_mode():\n",
    "        output = model(tokenized_input, labels=tokenized_input)\n",
    "    ppl = torch.exp(output.loss)\n",
    "    return ppl.item()\n"
   ]
  },
  {
   "cell_type": "code",
   "execution_count": 2,
   "metadata": {},
   "outputs": [
    {
     "name": "stderr",
     "output_type": "stream",
     "text": [
      "/home/hatakeyama/miniconda3/envs/llmeval/lib/python3.11/site-packages/transformers/convert_slow_tokenizer.py:473: UserWarning: The sentencepiece tokenizer that you are converting to a fast tokenizer uses the byte fallback option which is not implemented in the fast tokenizers. In practice this means that the fast version of the tokenizer can produce unknown tokens whereas the sentencepiece version would have converted these unknown tokens into a sequence of byte tokens matching the original piece of text.\n",
      "  warnings.warn(\n"
     ]
    }
   ],
   "source": [
    "model_path=\"../../models/hf\"\n",
    "model_path=\"../../models/hf/0405_100m_clean_ja\"\n",
    "model = AutoModelForCausalLM.from_pretrained(model_path,device_map=\"auto\")\n",
    "tokenizer = AutoTokenizer.from_pretrained(model_path)\n"
   ]
  },
  {
   "cell_type": "code",
   "execution_count": 3,
   "metadata": {},
   "outputs": [],
   "source": [
    "pipe=pipeline('text-generation',model=model,tokenizer=tokenizer, max_new_tokens=200, repetition_penalty=1.5)"
   ]
  },
  {
   "cell_type": "code",
   "execution_count": 6,
   "metadata": {},
   "outputs": [
    {
     "name": "stderr",
     "output_type": "stream",
     "text": [
      "Setting `pad_token_id` to `eos_token_id`:50256 for open-end generation.\n"
     ]
    },
    {
     "name": "stderr",
     "output_type": "stream",
     "text": [
      "Setting `pad_token_id` to `eos_token_id`:50256 for open-end generation.\n"
     ]
    },
    {
     "name": "stdout",
     "output_type": "stream",
     "text": [
      "-------\n",
      "input:  今日はいい\n",
      "perplexity:  350.9306335449219\n",
      "time:  1.597961664199829\n",
      "time/character:  0.0073979706675918015\n",
      "output:  今日はいい加減に、\n",
      "「おやつ。」と訊ねた、「えッ!」と云った、「......あアハハハハハハハハハハハハハハハハハハハハハハハハハハハハハハハハハハハハハハハハハハハハハハハハハハハハハハハハハハハハハハハハハハハハハハハハハハハハハハハハハハハハハハハハハハハハハハハハハハハハハハハハハハハハハハハハハハハハハハハハハハハハハハハハハハハハハハハハハハハハハハハハハハハハハハハハハハハハハハハハハハハハハハハハハハハハハハハハ\n"
     ]
    },
    {
     "name": "stderr",
     "output_type": "stream",
     "text": [
      "Setting `pad_token_id` to `eos_token_id`:50256 for open-end generation.\n"
     ]
    },
    {
     "name": "stdout",
     "output_type": "stream",
     "text": [
      "-------\n",
      "input:  富士山は\n",
      "perplexity:  1481.129150390625\n",
      "time:  1.5517044067382812\n",
      "time/character:  0.0030306726694107056\n",
      "output:  富士山は、1987年(昭和62年度)に富士河口湖の「浅間山」を登頂した。\n",
      "登山ルート \n",
      "山頂から登山道が分岐し、登山口からは山小屋や駐車場まで約30km離れたところにある。また、登山者用の宿泊施設も整備されているため、冬季には観光客用宿泊施設がある。 『THE BEST OF THE WORLD』(ザ・ベストズ)とは、日本のロックバンドである。\n",
      "概要 \n",
      "前作『BEST of the Best』から約5ヶ月ぶりのリリースとなるシングルで、『GOLDEN☆BEST』『ゴールデン☆BEST』、『Best Singles Collection 〜The Last Night〜』以来4年ぶりのオリジナルアルバムとなった。\n",
      "収録曲のうち、「愛のテーマ」「恋のうた」、「恋のメロディ」(作詞:秋元康/作曲:筒美京平 編曲:船山基紀)と、それぞれの楽曲が収録されている。なお、このアルバムに収録されている楽曲は、後に発売されたベストアルバム『BEST Of The Albums〜Mysterious Songs〜』(規格品番:CD-XH-000)に収録されたものである。\n",
      "初回盤と通常盤の帯ジャケット仕様となっている。ジャケットは\n"
     ]
    },
    {
     "name": "stderr",
     "output_type": "stream",
     "text": [
      "Setting `pad_token_id` to `eos_token_id`:50256 for open-end generation.\n"
     ]
    },
    {
     "name": "stdout",
     "output_type": "stream",
     "text": [
      "-------\n",
      "input:  質問: 今日の天気は? 回答:\n",
      "perplexity:  196.4418487548828\n",
      "time:  1.090691328048706\n",
      "time/character:  0.0026537501898995283\n",
      "output:  質問: 今日の天気は? 回答: 10%\n",
      "▽2回目で、前回より3回目の調査結果を報告。\n",
      "【第4回】「ニュース」のキャスターが取材した。\n",
      "(NHK総合)記者とカメラマンによるインタビュー映像では、「報道・情報などに関する話題や記事の内容についての情報も紹介しています」(TBSテレビ制作) 『THE IDOLM@STER』(ザ・ベストズ)とは、日本のロックバンドである。2009年7月5日にavex traxから発売された。発売元はBMG JAPAN。規格品番:CD-860/H型。規格品番はA.GYZL-XD-RVCL-S,B.C.PW-TRECT-FPS-JDS-KTV+DVD付。\n",
      "概要 \n",
      "前作『THE IDOLM@STER』から約半年後に発売されたシングルであり、『THE IDOLM@STER LIVE TOUR '09 〜the best〜』からのシングルとなった。また、本作収録曲のうち、アルバム収録分には未収録\n"
     ]
    },
    {
     "name": "stderr",
     "output_type": "stream",
     "text": [
      "Setting `pad_token_id` to `eos_token_id`:50256 for open-end generation.\n"
     ]
    },
    {
     "name": "stdout",
     "output_type": "stream",
     "text": [
      "-------\n",
      "input:  批判的な\n",
      "perplexity:  718.8837280273438\n",
      "time:  1.0843093395233154\n",
      "time/character:  0.002414942849717852\n",
      "output:  批判的な見方を持たれている。\n",
      "「私は、この点について、「私が『私の言っているのは私だ』と書いてある」と答えたが、『あなたもそう思うんですか?』という質問に答えている。そして、その回答に対して、「私は、あなたの意見を聞く前に言ったとおりだったらどうした?」と答えて反論する。また、2019年3月6日に自身のTwitterで謝罪文を発表し、同年4月に同サイトでのコメントを発表した。 『THE BEST OF THE LIVE』(ザ・ベスト)とは、日本のロックバンドである。2008年に解散して解散した後、バンドとしての活動を終了した。\n",
      "概要 \n",
      "前作よりシングルのリリースとなったアルバムからのシングルリリースとなる。その後、メンバーチェンジを経て、再びライブ活動を再開し、現在は活動休止中となっている。なお、メンバーの脱退により再結成された。\n",
      "収録曲 \n",
      "全作詞:秋元康/作曲:小室哲哉 編曲:亀田誠治(特記以外)\n",
      "収録アルバム \n",
      "※全て作詞を担当していないアーティストによる作品のみ記載。 株式会社ア\n"
     ]
    },
    {
     "name": "stderr",
     "output_type": "stream",
     "text": [
      "Setting `pad_token_id` to `eos_token_id`:50256 for open-end generation.\n"
     ]
    },
    {
     "name": "stdout",
     "output_type": "stream",
     "text": [
      "-------\n",
      "input:  大規模言語モデルは\n",
      "perplexity:  2618.6416015625\n",
      "time:  1.0902998447418213\n",
      "time/character:  0.0026399511979220856\n",
      "output:  大規模言語モデルは、1980年の「SOS」で、「SOS」(後に「ZX-2564/37)が開発された。\n",
      "また、このバージョンは、1980年に『R』と『Y』(後の「HQVL's SNOWER」「WAVAGE OF THE WORLD」、「SUPER EURO '80\" \"THE BEST SELECTION\")」が発売された後、『Jリーグ・ジャパン(現:パナソニックスタジアム)』『東芝EMIミュージックズ (現:ソニーアリーナ)』、『NECラジオパークス(現:パナソニックスタジアム)』などで使用された。 『A&G+TV 〜BEST〜』(ディービーティーツー〜ベスト)は、TBS系列で放送されたテレビドラマである。全話数放送。主演は森谷しげる。製作局のフジテレビでは第1回から放送された。\n",
      "概要 \n",
      "NHK総合にてドラマ化された作品でもある。視聴率は関東地区に約1.7%を記録しており、その割合を番組史上最高額を記録した。なお、\n"
     ]
    },
    {
     "name": "stderr",
     "output_type": "stream",
     "text": [
      "Setting `pad_token_id` to `eos_token_id`:50256 for open-end generation.\n"
     ]
    },
    {
     "name": "stdout",
     "output_type": "stream",
     "text": [
      "-------\n",
      "input:  AI研究の問題点は\n",
      "perplexity:  640.7472534179688\n",
      "time:  1.0861988067626953\n",
      "time/character:  0.0021466379580290422\n",
      "output:  AI研究の問題点は、その問題が解決する。\n",
      "また、この課題を解決するために、2014年3月に発表された「ChatGPT」では、「生成されたデータセットを抽出し、それを検出したデータを解析した結果で分析したところに誤りがあったと回答している」「今後、結果を公表する必要があるのではないか」といった指摘を受けたほか、今回の調査でも、今後の対策について議論を進めるとしています。 『THE BEST OF THE WORLD』(ザ・ベスト)は日本のロックユニットである。\n",
      "概要 \n",
      "前作『BEST』から約5ヶ月ぶりとなるシングルであり、『GOLDEN☆BEST』『ゴールデン☆BEST』、『Best Best Selection』・『BEST II -Sincen's-』からのシングルとなった。なお、同アルバム収録曲のうち、CD未収録となっている。\n",
      "表題曲には、オリジナルアルバム未収録曲が収録されたDVD付(規格品番:SRC-679/8LHXYZRM-100A)が収録されている。\n",
      "初回限定盤と通常盤の帯仕様となっており、通常盤のみ収録されている。初回盤のみデジパック仕様になっている。初回生産限定盤と通常盤の帯仕様で\n"
     ]
    },
    {
     "name": "stderr",
     "output_type": "stream",
     "text": [
      "Setting `pad_token_id` to `eos_token_id`:50256 for open-end generation.\n"
     ]
    },
    {
     "name": "stdout",
     "output_type": "stream",
     "text": [
      "-------\n",
      "input:  化学研究の問題点は\n",
      "perplexity:  365.1391906738281\n",
      "time:  1.086970329284668\n",
      "time/character:  0.002062562294657814\n",
      "output:  化学研究の問題点は、1940年(昭和25)に「科学と生物の研究」を提言した。\n",
      "また、「科学的知見に基づく実験的研究」(1967-83年度)、「科学・動物学における自然現象に関する研究」、「医学的応用に関する実証的研究」「生物学的な基礎知識による人工物質の発見および分析技術の開発など、その業績が得られた成果によって、人類の歴史や歴史について考察する試みである」といった著書がある。 『THE BEST OF THE LIVE』(ザ・ベストズ)とは、日本のロックバンド、C.A.L.R&BAND RECORDSから発売されたベストアルバム『BEST』収録曲のうち、『GOLDEN☆BEST』『ゴールデン★BEST』、『Best Best Singles Collections』・『The Album of the Years』→『Golden Songs Of The Music Awards〜』に収録されている楽曲を集めたコンピレーションアルバムで、CD化された作品の中から選曲された曲を収録したアルバムである。なお、この曲を収録したシングルには未収録となった曲である「DEARS IN LOVE & SNOW」が収録されている。\n",
      "概要 \n",
      "前作より前\n"
     ]
    },
    {
     "name": "stderr",
     "output_type": "stream",
     "text": [
      "/home/hatakeyama/miniconda3/envs/llmeval/lib/python3.11/site-packages/transformers/pipelines/base.py:1101: UserWarning: You seem to be using the pipelines sequentially on GPU. In order to maximize efficiency please use a dataset\n",
      "  warnings.warn(\n",
      "Setting `pad_token_id` to `eos_token_id`:50256 for open-end generation.\n"
     ]
    },
    {
     "name": "stdout",
     "output_type": "stream",
     "text": [
      "-------\n",
      "input:  I have a\n",
      "perplexity:  419.51416015625\n",
      "time:  1.0833570957183838\n",
      "time/character:  0.0033961037483334917\n",
      "output:  I have a new been there is not you?\n",
      "「え、おやつ。」と叫んだが、「どうも......?」と叫ぶのは、もう何だか分らない。\n",
      "「さあ、そうかしら!」と叫びながら言った。すると、彼はまたしても、その声をひそめたままで、\n",
      "「ああなア! おやつはねえよ。」と云った。そして、彼女は云うて答えた。\n",
      "「まあ、あたしにゃ、そんならっしゃいね。」と云うのだつた。\n",
      "「それじゃ、さうだつてるんぢやないか。」といふのだつた。\n",
      "「あら、あの野郎さんだよ。」と笑ふやうな調子をして、\n",
      "「うん、そりゃ、いい加減ですよ。」と訊ねると、彼は黙ってみた。\n",
      "「はいゝかい。」と答へば、彼の眼には、自分の顔を見合せてゐた。\n",
      "「ほんとうですか\n"
     ]
    },
    {
     "name": "stderr",
     "output_type": "stream",
     "text": [
      "Setting `pad_token_id` to `eos_token_id`:50256 for open-end generation.\n"
     ]
    },
    {
     "name": "stdout",
     "output_type": "stream",
     "text": [
      "-------\n",
      "input:  Functional polymers are\n",
      "perplexity:  413.3573913574219\n",
      "time:  1.0847842693328857\n",
      "time/character:  0.0024052866282325627\n",
      "output:  Functional polymers are the people of an-tothod, and researchs.\n",
      "\n",
      "## A 提案手法の概要図は、A$\\left(a) \\rightarrow{x}^{10]$ [25]で示した。表中の「我々が提案した」という評価指標を抽出した結果から得られた。また、「我々に提示する選択肢と回答者の同意を求める」「賛成票を投じる必要のある選択権を持つ必要がある」といった問題点がある。 『Saturday』(ティー・ユー)とは、日本のロックシンガーである森嶋あいによる日本の漫画作品。『月刊少年ガンガン』にて連載された後、『月刊ヤングジャンプ増刊』『別冊少年サンデー増刊号』、『週刊コミックマガジン』などで連載されている。単行本全3巻。\n",
      "あらすじ \n",
      "高校4年生だった森嶋あいは転校先の私立中学に入学して入学するが、その受験勉強のため進学を断念してしまう。しかし、同級生からのいじめを受け退学となる。その後、クラスメイトとしてバスケ部に所属することになる。\n"
     ]
    },
    {
     "name": "stderr",
     "output_type": "stream",
     "text": [
      "Setting `pad_token_id` to `eos_token_id`:50256 for open-end generation.\n"
     ]
    },
    {
     "name": "stdout",
     "output_type": "stream",
     "text": [
      "-------\n",
      "input:  機能性高分子は\n",
      "perplexity:  3278.713134765625\n",
      "time:  1.0828051567077637\n",
      "time/character:  0.003041587518842033\n",
      "output:  機能性高分子は、有機金属の重合によって得られる。\n",
      "用途と製造工程において、ポリマーやポリスチレンなどの材料を合成する手法が開発されている。また、繊維化により、樹脂に加工された素材も作られることがある。 『THE BEST OF THE LIVE』(ザ・ベスト)とは1987年4月25日に発売された西城秀樹のベスト・アルバムである(規格品番:CD-063/HB-XL-RM-SLP-DT-AJV-FREC-GYZ-EW-PAL-KAV-SHEL-CRASHER,CTCA-063)。発売元はポリドールレコード。規格品番はLD-063/HB-XL-RM-SLP-DT-OCL-NLT-UCHINE RECORDS。品番はCD-063/HB-XL-RM-SLP-DT-AATRUE RECORDS。規格品番:SRCCF\n"
     ]
    },
    {
     "name": "stderr",
     "output_type": "stream",
     "text": [
      "Setting `pad_token_id` to `eos_token_id`:50256 for open-end generation.\n"
     ]
    },
    {
     "name": "stdout",
     "output_type": "stream",
     "text": [
      "-------\n",
      "input:  ホンダ フィット 販売\n",
      "perplexity:  984.2088012695312\n",
      "time:  1.0845990180969238\n",
      "time/character:  0.0021691980361938476\n",
      "output:  ホンダ フィット 販売\n",
      "2014年3月、スズキ・アビオが「ヤマハのスーパーバイク」を販売開始。同年6月に生産終了となり、「ヤマハは市販車にシフトする」と発表(後に生産終了)した。 『THE BEST OF THE LIVE』(ザ・ベストズ)とは、日本のロックバンドである。2009年に解散し解散した後、バンドとしての活動も継続された。\n",
      "概要 \n",
      "前作『BEST of the Best』から約5ヶ月ぶりとなるシングルで、『GOLDEN☆BEST』『ゴールデン☆BEST』、『Best Singles Collection 〜The Last Night〜』からのシングルリリースとなった。また、同アルバムには未収録だった新曲が収録されたDVDが付属されている。なお、このCDに収録されている曲は、オリジナル盤と同じものを使用しているため、一部アレンジが異なる場合がある。\n",
      "収録曲のうち、全曲作詞を担当したアーティスト名や楽曲名のクレジットなどが異なっている。\n",
      "楽曲解説 \n",
      "全作詞:秋元康/作曲:小室哲哉 編曲:小林武史 / 歌 - 奥田民生 & MADEMY, ASKA (特記以外)\n",
      "収録アルバム \n",
      "\n",
      "-------\n",
      "input:  英語: He is a good man. 日本語: \n",
      "perplexity:  51.42353439331055\n",
      "time:  1.0916693210601807\n",
      "time/character:  0.002032903763612999\n",
      "output:  英語: He is a good man. 日本語: English-token, and there are beentially tokyozuoka)\n",
      "作詞・作曲: Ayumi Kawahara、編曲:Ayasu Komura/Takuraki Okayama(2015年4月 - )\n",
      "カバー \n",
      "※いずれも日本語詞。 『THE BEST OF THE WORLD』(ザ・ベストズ)は、日本のロックバンドである。2009年にavex traxから発売された。発売元はBMG JAPAN。規格品番:CD+DVD付。規格品番はCTCA-7683。\n",
      "概要 \n",
      "前作『BEST』から約半年でのリリースとなったシングル「LOVE SONGS」からのシングルがリリースされ、「LOVE TRACKS」「Love songs」、「My Best of Love」(アルバム収録曲の別バージョンを含む)と同時発売された。また、『GOLDEN☆BEST』『Best Of LOVE』、『BEST SELECTION-』には未収録となる楽曲が収録されているほか、本作も収録している。なお、本作はオリコンチャート初登場第1位を獲得した。\n",
      "表題曲のうち、カップリング曲としてシングルカットされた「\n"
     ]
    }
   ],
   "source": [
    "import time\n",
    "text_list=[\"今日はいい\",\n",
    "\"富士山は\",\n",
    "\"質問: 今日の天気は? 回答:\",\n",
    "\"批判的な\",\n",
    "\"大規模言語モデルは\",\n",
    "\"AI研究の問題点は\",\n",
    "\"化学研究の問題点は\",\n",
    "\"I have a\",\n",
    "\"Functional polymers are\",\n",
    "\"機能性高分子は\",           \n",
    "\"ホンダ フィット 販売\",\n",
    "\"英語: He is a good man. 日本語: \",\n",
    "]\n",
    "\n",
    "\n",
    "for text in text_list:\n",
    "    perp=perplexity(model,tokenizer,text)\n",
    "    s_time=time.time()\n",
    "    res=pipe(text)[0][\"generated_text\"]\n",
    "    consumed_time=time.time()-s_time\n",
    "    print(\"-------\")\n",
    "    print(\"input: \", text)\n",
    "    print(\"perplexity: \",perp)\n",
    "    print(\"time: \", consumed_time)\n",
    "    print(\"time/character: \", consumed_time/len(res))\n",
    "    print(\"output: \",res)"
   ]
  },
  {
   "cell_type": "code",
   "execution_count": null,
   "metadata": {},
   "outputs": [],
   "source": []
  }
 ],
 "metadata": {
  "kernelspec": {
   "display_name": "scr",
   "language": "python",
   "name": "python3"
  },
  "language_info": {
   "codemirror_mode": {
    "name": "ipython",
    "version": 3
   },
   "file_extension": ".py",
   "mimetype": "text/x-python",
   "name": "python",
   "nbconvert_exporter": "python",
   "pygments_lexer": "ipython3",
   "version": "3.11.8"
  }
 },
 "nbformat": 4,
 "nbformat_minor": 2
}
