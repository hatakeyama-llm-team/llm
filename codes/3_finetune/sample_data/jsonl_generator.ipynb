{
 "cells": [
  {
   "cell_type": "code",
   "execution_count": 1,
   "metadata": {},
   "outputs": [],
   "source": [
    "#jsonlをsft形式に変換するcodeの例\n",
    "import json"
   ]
  },
  {
   "cell_type": "code",
   "execution_count": 6,
   "metadata": {},
   "outputs": [
    {
     "data": {
      "text/plain": [
       "[{'index': '0',\n",
       "  'instruction': 'ヴァージン・オーストラリア航空はいつから運航を開始したのですか？',\n",
       "  'input': 'ヴァージン・オーストラリア航空（Virgin Australia Airlines Pty Ltd）はオーストラリアを拠点とするヴァージン・ブランドを冠する最大の船団規模を持つ航空会社です。2000年8月31日に、ヴァージン・ブルー空港として、2機の航空機、1つの空路を運行してサービスを開始しました。2001年9月のアンセット・オーストラリア空港の崩壊後、オーストラリアの国内市場で急速に地位を確立しました。その後はブリスベン、メルボルン、シドニーをハブとして、オーストラリア国内の32都市に直接乗り入れるまでに成長しました。',\n",
       "  'output': 'ヴァージン・オーストラリア航空は、2000年8月31日にヴァージン・ブルー航空として、2機の航空機で単一路線の運航を開始しました。',\n",
       "  'category': 'closed_qa'},\n",
       " {'index': '1',\n",
       "  'instruction': '魚の種類はどっち？イコクエイラクブカとロープ',\n",
       "  'input': '',\n",
       "  'output': 'イコクエイラクブカ',\n",
       "  'category': 'classification'},\n",
       " {'index': '2',\n",
       "  'instruction': 'ラクダはなぜ水なしで長く生きられるのか？',\n",
       "  'input': '',\n",
       "  'output': 'ラクダは、長時間にわたってエネルギーと水分で満たされた状態を保つために、腰の脂肪を利用しています。',\n",
       "  'category': 'open_qa'}]"
      ]
     },
     "execution_count": 6,
     "metadata": {},
     "output_type": "execute_result"
    }
   ],
   "source": [
    "input_path=\"databricks-dolly-15k-ja.json\"\n",
    "output_path=\"databricks-dolly-15k-ja_converted.jsonl\"\n",
    "#output_path=\"databricks-dolly-15k-ja_converted_short.jsonl\"\n",
    "\n",
    "with open(input_path, \"r\") as f:\n",
    "    record_list = json.load(f)\n",
    "record_list[:3]"
   ]
  },
  {
   "cell_type": "code",
   "execution_count": 7,
   "metadata": {},
   "outputs": [],
   "source": [
    "instruction_template=\"以下は、タスクを説明する指示です。要求を適切に満たす応答を書きなさい。\\n\\n### 指示:\\n\"\n",
    "instruction_template=\"### 指示:\"\n",
    "#instruction_template=\"### Human: \"\n",
    "\n",
    "with open(output_path, \"w\") as f:\n",
    "    f.write(\"\")\n",
    "\n",
    "cnt=0\n",
    "with open(output_path, \"a\") as f:\n",
    "    for record in record_list:\n",
    "        cnt+=1\n",
    "        #if cnt>1000:\n",
    "        #    break\n",
    "        txt=\"\"\n",
    "        txt+=instruction_template\n",
    "        if record[\"input\"]!=\"\":\n",
    "            inp=record[\"input\"]\n",
    "            txt+=f\"[参考情報] {inp} [参考情報]\\n\"\n",
    "        q=record[\"instruction\"]\n",
    "        #txt+=f\"{q}\\n\\n### 応答:\\n\"\n",
    "        txt+=f\"{q}### 応答:\"\n",
    "        #txt+=f\"{q}### Assistant: \"\n",
    "        out=record[\"output\"]\n",
    "        txt+=f\"{out}\"\n",
    "\n",
    "        f.write(json.dumps({\"text\":txt}, ensure_ascii=False)+\"\\n\")"
   ]
  },
  {
   "cell_type": "code",
   "execution_count": null,
   "metadata": {},
   "outputs": [],
   "source": []
  },
  {
   "cell_type": "code",
   "execution_count": null,
   "metadata": {},
   "outputs": [],
   "source": []
  }
 ],
 "metadata": {
  "kernelspec": {
   "display_name": "scr",
   "language": "python",
   "name": "python3"
  },
  "language_info": {
   "codemirror_mode": {
    "name": "ipython",
    "version": 3
   },
   "file_extension": ".py",
   "mimetype": "text/x-python",
   "name": "python",
   "nbconvert_exporter": "python",
   "pygments_lexer": "ipython3",
   "version": "3.11.8"
  }
 },
 "nbformat": 4,
 "nbformat_minor": 2
}
