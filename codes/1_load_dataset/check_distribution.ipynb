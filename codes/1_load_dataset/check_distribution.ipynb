{
 "cells": [
  {
   "cell_type": "code",
   "execution_count": 1,
   "metadata": {},
   "outputs": [],
   "source": [
    "# 種々のdatasetをintagrateします\n",
    "# こちらはデータ配分の確認用です｡\n",
    "# 本番ではintegrate_dataset.pyを実行します｡"
   ]
  },
  {
   "cell_type": "code",
   "execution_count": 2,
   "metadata": {},
   "outputs": [
    {
     "name": "stdout",
     "output_type": "stream",
     "text": [
      "{'output_path': '../../data/text/0318enwiki_jawiki_mc4.jsonl', 'max_records': 1200000, 'overwrite': True}\n"
     ]
    }
   ],
   "source": [
    "\n",
    "import yaml\n",
    "\n",
    "with open('config.yaml', 'r') as file:\n",
    "    conf= yaml.safe_load(file)\n",
    "output_path=conf[\"output_path\"]\n",
    "max_records=conf[\"max_records\"]\n",
    "print(conf)"
   ]
  },
  {
   "cell_type": "code",
   "execution_count": 3,
   "metadata": {},
   "outputs": [
    {
     "name": "stderr",
     "output_type": "stream",
     "text": [
      "/home/hatakeyama/miniconda3/envs/llmeval/lib/python3.11/site-packages/tqdm/auto.py:21: TqdmWarning: IProgress not found. Please update jupyter and ipywidgets. See https://ipywidgets.readthedocs.io/en/stable/user_install.html\n",
      "  from .autonotebook import tqdm as notebook_tqdm\n"
     ]
    }
   ],
   "source": [
    "%load_ext autoreload\n",
    "%autoreload 2\n",
    "from src.loaders import *\n",
    "from src.RecordDistributor import RecordDistributor"
   ]
  },
  {
   "cell_type": "code",
   "execution_count": 21,
   "metadata": {},
   "outputs": [],
   "source": [
    "\n",
    "dataset_dict = {\n",
    "    \"wiki(ja)\": {\n",
    "        \"loader\": wiki_ja_loader, #日本語版のwikipediaのloaderを使います｡\n",
    "        \"n_records\": 1200000, #最大件数\n",
    "        \"stage_ratio\": [1, 1, 1,8],  # 各ステージでのデータ配分\n",
    "    },\n",
    "    \"wiki(en)\": {\n",
    "        \"loader\": wiki_en_loader,\n",
    "        \"n_records\": 3600000,\n",
    "        \"stage_ratio\": [0.25, 7, 1,0.25],\n",
    "    },\n",
    "    \"mc4(ja)\": {\n",
    "        \"loader\": mc4_ja_part_loader,\n",
    "        \"n_records\": 2400000,\n",
    "        \"stage_ratio\": [0.5, 1, 8,0.5],  # 各ステージでのデータ配分\n",
    "    },\n",
    "}"
   ]
  },
  {
   "cell_type": "code",
   "execution_count": 22,
   "metadata": {},
   "outputs": [
    {
     "data": {
      "text/html": [
       "<div>\n",
       "<style scoped>\n",
       "    .dataframe tbody tr th:only-of-type {\n",
       "        vertical-align: middle;\n",
       "    }\n",
       "\n",
       "    .dataframe tbody tr th {\n",
       "        vertical-align: top;\n",
       "    }\n",
       "\n",
       "    .dataframe thead th {\n",
       "        text-align: right;\n",
       "    }\n",
       "</style>\n",
       "<table border=\"1\" class=\"dataframe\">\n",
       "  <thead>\n",
       "    <tr style=\"text-align: right;\">\n",
       "      <th>Source</th>\n",
       "      <th>mc4(ja)</th>\n",
       "      <th>wiki(en)</th>\n",
       "      <th>wiki(ja)</th>\n",
       "      <th>Sum</th>\n",
       "    </tr>\n",
       "    <tr>\n",
       "      <th>Stage</th>\n",
       "      <th></th>\n",
       "      <th></th>\n",
       "      <th></th>\n",
       "      <th></th>\n",
       "    </tr>\n",
       "  </thead>\n",
       "  <tbody>\n",
       "    <tr>\n",
       "      <th>Stage 1</th>\n",
       "      <td>120000</td>\n",
       "      <td>105882</td>\n",
       "      <td>109090</td>\n",
       "      <td>334972</td>\n",
       "    </tr>\n",
       "    <tr>\n",
       "      <th>Stage 2</th>\n",
       "      <td>240000</td>\n",
       "      <td>2964705</td>\n",
       "      <td>109090</td>\n",
       "      <td>3313795</td>\n",
       "    </tr>\n",
       "    <tr>\n",
       "      <th>Stage 3</th>\n",
       "      <td>1920000</td>\n",
       "      <td>423529</td>\n",
       "      <td>109090</td>\n",
       "      <td>2452619</td>\n",
       "    </tr>\n",
       "    <tr>\n",
       "      <th>Stage 4</th>\n",
       "      <td>120000</td>\n",
       "      <td>105882</td>\n",
       "      <td>872727</td>\n",
       "      <td>1098609</td>\n",
       "    </tr>\n",
       "  </tbody>\n",
       "</table>\n",
       "</div>"
      ],
      "text/plain": [
       "Source   mc4(ja)  wiki(en)  wiki(ja)      Sum\n",
       "Stage                                        \n",
       "Stage 1   120000    105882    109090   334972\n",
       "Stage 2   240000   2964705    109090  3313795\n",
       "Stage 3  1920000    423529    109090  2452619\n",
       "Stage 4   120000    105882    872727  1098609"
      ]
     },
     "execution_count": 22,
     "metadata": {},
     "output_type": "execute_result"
    }
   ],
   "source": [
    "distributor=RecordDistributor(dataset_dict)\n",
    "#distributor.load_datasets()\n",
    "distributor.record_df"
   ]
  },
  {
   "cell_type": "code",
   "execution_count": 23,
   "metadata": {},
   "outputs": [
    {
     "data": {
      "text/html": [
       "<div>\n",
       "<style scoped>\n",
       "    .dataframe tbody tr th:only-of-type {\n",
       "        vertical-align: middle;\n",
       "    }\n",
       "\n",
       "    .dataframe tbody tr th {\n",
       "        vertical-align: top;\n",
       "    }\n",
       "\n",
       "    .dataframe thead th {\n",
       "        text-align: right;\n",
       "    }\n",
       "</style>\n",
       "<table border=\"1\" class=\"dataframe\">\n",
       "  <thead>\n",
       "    <tr style=\"text-align: right;\">\n",
       "      <th>Source</th>\n",
       "      <th>mc4(ja)</th>\n",
       "      <th>wiki(en)</th>\n",
       "      <th>wiki(ja)</th>\n",
       "    </tr>\n",
       "    <tr>\n",
       "      <th>Stage</th>\n",
       "      <th></th>\n",
       "      <th></th>\n",
       "      <th></th>\n",
       "    </tr>\n",
       "  </thead>\n",
       "  <tbody>\n",
       "    <tr>\n",
       "      <th>Stage 1</th>\n",
       "      <td>35.823890</td>\n",
       "      <td>31.609209</td>\n",
       "      <td>32.566901</td>\n",
       "    </tr>\n",
       "    <tr>\n",
       "      <th>Stage 2</th>\n",
       "      <td>7.242452</td>\n",
       "      <td>89.465552</td>\n",
       "      <td>3.291996</td>\n",
       "    </tr>\n",
       "    <tr>\n",
       "      <th>Stage 3</th>\n",
       "      <td>78.283663</td>\n",
       "      <td>17.268438</td>\n",
       "      <td>4.447898</td>\n",
       "    </tr>\n",
       "    <tr>\n",
       "      <th>Stage 4</th>\n",
       "      <td>10.922903</td>\n",
       "      <td>9.637824</td>\n",
       "      <td>79.439273</td>\n",
       "    </tr>\n",
       "  </tbody>\n",
       "</table>\n",
       "</div>"
      ],
      "text/plain": [
       "Source     mc4(ja)   wiki(en)   wiki(ja)\n",
       "Stage                                   \n",
       "Stage 1  35.823890  31.609209  32.566901\n",
       "Stage 2   7.242452  89.465552   3.291996\n",
       "Stage 3  78.283663  17.268438   4.447898\n",
       "Stage 4  10.922903   9.637824  79.439273"
      ]
     },
     "execution_count": 23,
     "metadata": {},
     "output_type": "execute_result"
    }
   ],
   "source": [
    "distributor.percent_df"
   ]
  },
  {
   "cell_type": "code",
   "execution_count": null,
   "metadata": {},
   "outputs": [],
   "source": [
    "#distributor.load_datasets()"
   ]
  },
  {
   "cell_type": "code",
   "execution_count": null,
   "metadata": {},
   "outputs": [],
   "source": [
    "import random\n",
    "from tqdm import tqdm\n",
    "#distributor.write_jsonl(output_path,overwrite=conf[\"overwrite\"])"
   ]
  },
  {
   "cell_type": "code",
   "execution_count": null,
   "metadata": {},
   "outputs": [],
   "source": []
  }
 ],
 "metadata": {
  "kernelspec": {
   "display_name": "scr",
   "language": "python",
   "name": "python3"
  },
  "language_info": {
   "codemirror_mode": {
    "name": "ipython",
    "version": 3
   },
   "file_extension": ".py",
   "mimetype": "text/x-python",
   "name": "python",
   "nbconvert_exporter": "python",
   "pygments_lexer": "ipython3",
   "version": "3.11.8"
  }
 },
 "nbformat": 4,
 "nbformat_minor": 2
}
