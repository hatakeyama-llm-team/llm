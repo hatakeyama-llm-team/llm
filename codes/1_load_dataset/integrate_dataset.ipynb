{
 "cells": [
  {
   "cell_type": "code",
   "execution_count": 1,
   "metadata": {},
   "outputs": [],
   "source": [
    "# 種々のdatasetをintagrateします"
   ]
  },
  {
   "cell_type": "code",
   "execution_count": 2,
   "metadata": {},
   "outputs": [
    {
     "name": "stderr",
     "output_type": "stream",
     "text": [
      "/home/setup/miniconda3/envs/scr/lib/python3.11/site-packages/tqdm/auto.py:21: TqdmWarning: IProgress not found. Please update jupyter and ipywidgets. See https://ipywidgets.readthedocs.io/en/stable/user_install.html\n",
      "  from .autonotebook import tqdm as notebook_tqdm\n"
     ]
    },
    {
     "name": "stdout",
     "output_type": "stream",
     "text": [
      "{'output_path': '../../data/integrated_text.jsonl', 'max_records': 1000000}\n"
     ]
    }
   ],
   "source": [
    "from datasets import load_dataset\n",
    "import json\n",
    "import os\n",
    "from tqdm import tqdm\n",
    "import yaml\n",
    "\n",
    "with open('config.yaml', 'r') as file:\n",
    "    conf= yaml.safe_load(file)\n",
    "output_path=conf[\"output_path\"]\n",
    "max_records=conf[\"max_records\"]\n",
    "print(conf)"
   ]
  },
  {
   "cell_type": "code",
   "execution_count": 3,
   "metadata": {},
   "outputs": [
    {
     "name": "stderr",
     "output_type": "stream",
     "text": [
      "/home/setup/miniconda3/envs/scr/lib/python3.11/site-packages/datasets/load.py:1461: FutureWarning: The repository for wikipedia contains custom code which must be executed to correctly load the dataset. You can inspect the repository content at https://hf.co/datasets/wikipedia\n",
      "You can avoid this message in future by passing the argument `trust_remote_code=True`.\n",
      "Passing `trust_remote_code=True` will be mandatory to load this dataset from the next major release of `datasets`.\n",
      "  warnings.warn(\n"
     ]
    }
   ],
   "source": [
    "#ここでは例として､日英のwikipediaを読み込んでみます\n",
    "\n",
    "#TODO: よく考えると､これだとRAMが足りなくなるかも?\n",
    "dataset_list = [\n",
    "    load_dataset(\"hpprc/wikipedia-20240101\", split=\"train\").shuffle(), #日本語\n",
    "    load_dataset(\"wikipedia\", \"20220301.en\",split=\"train\").shuffle(), #英語\n",
    "]"
   ]
  },
  {
   "cell_type": "code",
   "execution_count": 4,
   "metadata": {},
   "outputs": [
    {
     "name": "stdout",
     "output_type": "stream",
     "text": [
      "{'id': '1739738', 'url': 'https://ja.wikipedia.org/wiki/%E5%B8%AF%E7%B4%94%E4%B9%9F', 'title': '帯純也', 'text': \"帯 純也（おび じゅんや、1972年 - ）は、TBSテレビ制作局所属のテレビプロデューサー。\\n\\n来歴 \\n立命館大学卒業、早稲田大学大学院政治学研究科修士課程修了。大学卒業後にTBS入社以来、制作畑を歩む。途中ドラマ制作を経て制作局バラエティ制作センター（旧制作三部）所属。\\n\\n過去には『さんまのスーパーからくりTV』『稲垣吾郎のマイフェアレディ』、木梨憲武の『お茶の水ハカセ』『中居正広の金曜日のスマたちへ』の総合演出・プロデューサーを担当。\\n\\n過去の担当番組 \\n3年B組金八先生（第5シリーズ、演出補）\\nCOUNT DOWN TV（ディレクター）\\nPOP FILE\\nUSO!?ジャパン（ディレクター）\\nさんま・玉緒のお年玉あんたの夢をかなえたろかスペシャル\\n明石家さんまつり\\nオールスター感謝祭（1996年秋、1999年春フロアディレクター）\\nTHE CHAIR\\nGoro's Bar\\nドリーム・プレス社\\nバラエティーニュース キミハ・ブレイク\\nGoroプレゼンツ マイ・フェア・レディ\\n科学バラエティ お茶の水ハカセ\\nカミスン!\\nさんまのSUPERからくりTV（総合演出→プロデューサー）\\nライブB♪（プロデューサー）\\n直撃!コロシアム!! ズバッと!TV（プロデューサー）\\n中居正広の金曜日のスマイルたちへ（チーフディレクター→プロデューサー）\\n音楽の日（制作プロデューサー→協力プロデューサー）\\n\\n外部リンク \\n社員紹介:制作センター|TBSテレビ:採用2013（インターネットアーカイブ）\\n\\nTBSの人物\\n日本のテレビプロデューサー\\n早稲田大学出身の人物\\n立命館大学出身の人物\\n新潟明訓高等学校出身の人物\\n新潟市出身の人物\\n1972年生\\n存命人物\"}\n"
     ]
    }
   ],
   "source": [
    "#datasetの中身を確認してみます｡\n",
    "#各recordは辞書形式になっています｡大切なのは､ textです｡\n",
    "for data in dataset_list[0]:\n",
    "    break\n",
    "print(data)"
   ]
  },
  {
   "cell_type": "code",
   "execution_count": 5,
   "metadata": {},
   "outputs": [
    {
     "name": "stdout",
     "output_type": "stream",
     "text": [
      "jsonl file ../../data/integrated_text.jsonl already exists. Overwrite? (y/n)\n",
      "overwriting files...\n",
      "Dataset({\n",
      "    features: ['id', 'url', 'title', 'text'],\n",
      "    num_rows: 1395760\n",
      "})\n"
     ]
    },
    {
     "name": "stderr",
     "output_type": "stream",
     "text": [
      " 72%|███████▏  | 1000000/1395760 [01:01<00:24, 16173.56it/s]\n"
     ]
    },
    {
     "name": "stdout",
     "output_type": "stream",
     "text": [
      "Dataset({\n",
      "    features: ['id', 'url', 'title', 'text'],\n",
      "    num_rows: 6458670\n",
      "})\n"
     ]
    },
    {
     "name": "stderr",
     "output_type": "stream",
     "text": [
      " 15%|█▌        | 1000000/6458670 [01:06<06:04, 14960.24it/s]\n"
     ]
    }
   ],
   "source": [
    "# 各datasetをmergeして､一つのjsonlにまとめます｡\n",
    "# ファイルは output_pathに生成されます\n",
    "# 各datasetは予めクリーニング, dedupされている必要があります｡\n",
    "#TODO: BTMのため､ジャンル別にデータを並べ替えたい\n",
    "\n",
    "if os.path.exists(output_path):\n",
    "    print(f\"jsonl file {output_path} already exists. Overwrite? (y/n)\")\n",
    "    ans=input()\n",
    "\n",
    "    if ans==\"y\" or \"Y\":\n",
    "        overwrite=True\n",
    "        print(\"overwriting files...\")\n",
    "        with open(output_path,\"w\") as f:\n",
    "            f.write(\"\")\n",
    "    else:\n",
    "        overwrite=False\n",
    "        print(\"aborted.\")\n",
    "if overwrite:\n",
    "    with open(output_path,\"a\") as f:\n",
    "        for dataset in dataset_list:\n",
    "            print(dataset)\n",
    "            cnt=0\n",
    "            for data in tqdm(dataset):\n",
    "                out_text=json.dumps({\"text\":data[\"text\"]}, ensure_ascii=False)\n",
    "                #jsonlで書き出し\n",
    "\n",
    "                f.write(out_text+\"\\n\") \n",
    "\n",
    "                cnt+=1\n",
    "                if cnt>max_records:\n",
    "                    break"
   ]
  },
  {
   "cell_type": "code",
   "execution_count": 6,
   "metadata": {},
   "outputs": [
    {
     "data": {
      "text/plain": [
       "Dataset({\n",
       "    features: ['id', 'url', 'title', 'text'],\n",
       "    num_rows: 6458670\n",
       "})"
      ]
     },
     "execution_count": 6,
     "metadata": {},
     "output_type": "execute_result"
    }
   ],
   "source": [
    "dataset"
   ]
  },
  {
   "cell_type": "code",
   "execution_count": null,
   "metadata": {},
   "outputs": [],
   "source": []
  }
 ],
 "metadata": {
  "kernelspec": {
   "display_name": "scr",
   "language": "python",
   "name": "python3"
  },
  "language_info": {
   "codemirror_mode": {
    "name": "ipython",
    "version": 3
   },
   "file_extension": ".py",
   "mimetype": "text/x-python",
   "name": "python",
   "nbconvert_exporter": "python",
   "pygments_lexer": "ipython3",
   "version": "3.11.8"
  }
 },
 "nbformat": 4,
 "nbformat_minor": 2
}
