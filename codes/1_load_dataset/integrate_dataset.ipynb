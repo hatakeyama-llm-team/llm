{
 "cells": [
  {
   "cell_type": "code",
   "execution_count": 1,
   "metadata": {},
   "outputs": [],
   "source": [
    "# 種々のdatasetをintagrateします\n",
    "# test用です｡最新版はintegrate_dataset.py"
   ]
  },
  {
   "cell_type": "code",
   "execution_count": 2,
   "metadata": {},
   "outputs": [
    {
     "name": "stdout",
     "output_type": "stream",
     "text": [
      "{'output_path': '../../data/text/0313mc4_wiki_en.jsonl', 'max_records': 1000000, 'overwrite': True}\n"
     ]
    }
   ],
   "source": [
    "import json\n",
    "import os\n",
    "from tqdm import tqdm\n",
    "import yaml\n",
    "\n",
    "with open('config.yaml', 'r') as file:\n",
    "    conf= yaml.safe_load(file)\n",
    "output_path=conf[\"output_path\"]\n",
    "max_records=conf[\"max_records\"]\n",
    "print(conf)"
   ]
  },
  {
   "cell_type": "code",
   "execution_count": 3,
   "metadata": {},
   "outputs": [
    {
     "name": "stderr",
     "output_type": "stream",
     "text": [
      "/home/setup/miniconda3/envs/scr/lib/python3.11/site-packages/tqdm/auto.py:21: TqdmWarning: IProgress not found. Please update jupyter and ipywidgets. See https://ipywidgets.readthedocs.io/en/stable/user_install.html\n",
      "  from .autonotebook import tqdm as notebook_tqdm\n"
     ]
    }
   ],
   "source": [
    "%load_ext autoreload\n",
    "%autoreload 2\n",
    "from src.loaders import *\n",
    "from src.RecordDistributor import RecordDistributor"
   ]
  },
  {
   "cell_type": "code",
   "execution_count": 4,
   "metadata": {},
   "outputs": [],
   "source": [
    "\"\"\"\n",
    "\"wiki(ja)\": {\n",
    "    \"loader\": wiki_ja_loader,\n",
    "    \"n_records\": max_records,\n",
    "    \"stage_ratio\": [1, 1, 9],  # 各ステージでのデータ配分\n",
    "},\n",
    "\"\"\"\n",
    "dataset_dict = {\n",
    "\n",
    "    \"mc4(ja)\": {\n",
    "        \"loader\": mc4_ja_part_loader,\n",
    "        \"n_records\": max_records,\n",
    "        \"stage_ratio\": [1, 1, 9],  # 各ステージでのデータ配分\n",
    "    },\n",
    "    \"wiki(en)\": {\n",
    "        \"loader\": wiki_en_loader,\n",
    "        \"n_records\": max_records,\n",
    "        \"stage_ratio\": [1, 9, 1],\n",
    "    },\n",
    "}"
   ]
  },
  {
   "cell_type": "code",
   "execution_count": 5,
   "metadata": {},
   "outputs": [
    {
     "data": {
      "text/plain": [
       "{'mc4(ja)': {'loader': <function src.loaders.mc4_ja_part_loader()>,\n",
       "  'n_records': 1000000,\n",
       "  'stage_ratio': array([0.09090909, 0.09090909, 0.81818182]),\n",
       "  'records_per_stage': [90909, 90909, 818181],\n",
       "  'call_frequency': [1.0, 0.1111111111111111, 1.0]},\n",
       " 'wiki(en)': {'loader': <function src.loaders.wiki_en_loader()>,\n",
       "  'n_records': 1000000,\n",
       "  'stage_ratio': array([0.09090909, 0.81818182, 0.09090909]),\n",
       "  'records_per_stage': [90909, 818181, 90909],\n",
       "  'call_frequency': [1.0, 1.0, 0.1111111111111111]}}"
      ]
     },
     "execution_count": 5,
     "metadata": {},
     "output_type": "execute_result"
    }
   ],
   "source": [
    "distributor=RecordDistributor(dataset_dict)\n",
    "#distributor.load_datasets()\n",
    "distributor.dataset_dict"
   ]
  },
  {
   "cell_type": "code",
   "execution_count": 6,
   "metadata": {},
   "outputs": [
    {
     "name": "stdout",
     "output_type": "stream",
     "text": [
      "loading mc4(ja)\n",
      "loading wiki(en)\n"
     ]
    },
    {
     "name": "stderr",
     "output_type": "stream",
     "text": [
      "/home/setup/miniconda3/envs/scr/lib/python3.11/site-packages/datasets/load.py:1461: FutureWarning: The repository for wikipedia contains custom code which must be executed to correctly load the dataset. You can inspect the repository content at https://hf.co/datasets/wikipedia\n",
      "You can avoid this message in future by passing the argument `trust_remote_code=True`.\n",
      "Passing `trust_remote_code=True` will be mandatory to load this dataset from the next major release of `datasets`.\n",
      "  warnings.warn(\n"
     ]
    }
   ],
   "source": [
    "\n",
    "distributor.load_datasets()"
   ]
  },
  {
   "cell_type": "code",
   "execution_count": 7,
   "metadata": {},
   "outputs": [
    {
     "data": {
      "text/plain": [
       "({'mc4(ja)': {'loader': <function src.loaders.mc4_ja_part_loader()>,\n",
       "   'n_records': 1000000,\n",
       "   'stage_ratio': array([0.09090909, 0.09090909, 0.81818182]),\n",
       "   'records_per_stage': [90909, 90909, 818181],\n",
       "   'call_frequency': [1.0, 0.1111111111111111, 1.0],\n",
       "   'dataset': IterableDataset({\n",
       "       features: ['text', 'timestamp', 'url'],\n",
       "       n_shards: 416\n",
       "   }),\n",
       "   'dataset_iterator': <generator object IterableDataset.__iter__ at 0x7f7d193575b0>},\n",
       "  'wiki(en)': {'loader': <function src.loaders.wiki_en_loader()>,\n",
       "   'n_records': 1000000,\n",
       "   'stage_ratio': array([0.09090909, 0.81818182, 0.09090909]),\n",
       "   'records_per_stage': [90909, 818181, 90909],\n",
       "   'call_frequency': [1.0, 1.0, 0.1111111111111111],\n",
       "   'dataset': IterableDataset({\n",
       "       features: ['id', 'url', 'title', 'text'],\n",
       "       n_shards: 41\n",
       "   }),\n",
       "   'dataset_iterator': <generator object IterableDataset.__iter__ at 0x7f7d193576e0>}},\n",
       " array([181818., 909090., 909090.]),\n",
       " array([181818., 909090., 909090.]))"
      ]
     },
     "execution_count": 7,
     "metadata": {},
     "output_type": "execute_result"
    }
   ],
   "source": [
    "distributor.dataset_dict, distributor.n_records_per_stage,distributor.n_records_per_stage"
   ]
  },
  {
   "cell_type": "code",
   "execution_count": 8,
   "metadata": {},
   "outputs": [
    {
     "name": "stdout",
     "output_type": "stream",
     "text": [
      "writing stage 0\n"
     ]
    },
    {
     "name": "stderr",
     "output_type": "stream",
     "text": [
      "100%|██████████| 90909/90909 [03:54<00:00, 388.13it/s] \n"
     ]
    },
    {
     "name": "stdout",
     "output_type": "stream",
     "text": [
      "writing stage 1\n"
     ]
    },
    {
     "name": "stderr",
     "output_type": "stream",
     "text": [
      "100%|██████████| 818181/818181 [18:12<00:00, 749.07it/s]  \n"
     ]
    },
    {
     "name": "stdout",
     "output_type": "stream",
     "text": [
      "writing stage 2\n"
     ]
    },
    {
     "name": "stderr",
     "output_type": "stream",
     "text": [
      "100%|██████████| 818181/818181 [34:42<00:00, 392.97it/s]  \n"
     ]
    }
   ],
   "source": [
    "import random\n",
    "from tqdm import tqdm\n",
    "distributor.write_jsonl(output_path,overwrite=conf[\"overwrite\"])"
   ]
  },
  {
   "cell_type": "code",
   "execution_count": null,
   "metadata": {},
   "outputs": [],
   "source": []
  }
 ],
 "metadata": {
  "kernelspec": {
   "display_name": "scr",
   "language": "python",
   "name": "python3"
  },
  "language_info": {
   "codemirror_mode": {
    "name": "ipython",
    "version": 3
   },
   "file_extension": ".py",
   "mimetype": "text/x-python",
   "name": "python",
   "nbconvert_exporter": "python",
   "pygments_lexer": "ipython3",
   "version": "3.11.8"
  }
 },
 "nbformat": 4,
 "nbformat_minor": 2
}
