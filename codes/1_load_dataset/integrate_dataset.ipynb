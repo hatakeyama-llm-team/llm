{
 "cells": [
  {
   "cell_type": "code",
   "execution_count": 1,
   "metadata": {},
   "outputs": [],
   "source": [
    "# 種々のdatasetをintagrateします"
   ]
  },
  {
   "cell_type": "code",
   "execution_count": 37,
   "metadata": {},
   "outputs": [],
   "source": [
    "from datasets import load_dataset\n",
    "import json\n",
    "import os\n",
    "from tqdm import tqdm\n",
    "output_path=\"../../data/integrated_text.jsonl\"\n",
    "max_records=10**5  # for debug"
   ]
  },
  {
   "cell_type": "code",
   "execution_count": 25,
   "metadata": {},
   "outputs": [],
   "source": [
    "#ここでは例として､日英のwikipediaを読み込んでみます\n",
    "dataset_list = [\n",
    "    load_dataset(\"hpprc/wikipedia-20240101\", split=\"train\").shuffle(), #日本語\n",
    "    #load_dataset(\"wikipedia\", \"20220301.en\").shuffle(), #英語\n",
    "]"
   ]
  },
  {
   "cell_type": "code",
   "execution_count": 26,
   "metadata": {},
   "outputs": [
    {
     "name": "stdout",
     "output_type": "stream",
     "text": [
      "{'id': '670731', 'url': 'https://ja.wikipedia.org/wiki/%E3%82%A2%E3%83%B3%E3%83%89%E3%83%AC%E3%83%BB%E3%83%96%E3%83%A9%E3%82%A6%E3%82%A2%E3%83%BC', 'title': 'アンドレ・ブラウアー', 'text': 'アンドレ・ブラウアー（Andre Braugher、1962年7月1日 - 2023年12月11日）は、アメリカ合衆国の俳優。\\n\\nプロフィール \\nブラウアーは4人兄弟の末っ子としてイリノイ州シカゴで生まれた。1984年にスタンフォード大学を卒業し文学士号を取得したが、元々はメディカルスクールに進学を希望していた。 そして、大学院修士課程として、ニューヨークのジュリアード音楽院に通った。1991年にはアミ・ブラブソンと結婚し、マイケル、イザヤの2人の子供をもうけた。\\n\\n映画『グローリー』がデビュー作であり、主人公の友人であるトーマス・サーレスを演じた。\\n\\nテレビドラマ『ホミサイド/殺人捜査課』ではフランク・ペンブルトン刑事役を演じ、妻のアミはメアリー・ペンブルトンとして劇中でも妻を演じた。この演技が評価され、ブラウアーは1997年、1998年のTV批評家協会賞を受賞した。また、1996年、1998年のエミー賞主演男優賞にノミネートされ、1998年には受賞した。2006年にはドラマ『THIEF/シーフ』においてニック・アットウォーター役でエミー賞ミニシリーズ/テレビムービー部門の主演男優部門で2度目の受賞を果たした。\\n\\n1997年には雑誌『ピープル』の「the 50 Most Beautiful People in the World」の一人に選ばれた。\\n\\n2023年12月11日、死去。。\\n\\n主な出演作品\\n\\n映画\\n\\nテレビシリーズ\\n\\nテレビアニメ\\n\\n出典\\n\\n外部リンク \\n\\nアフリカ系アメリカ人の男優\\nアメリカ合衆国の映画俳優\\nアメリカ合衆国のテレビ俳優\\nエミー賞受賞者\\n20世紀アメリカ合衆国の男優\\n21世紀アメリカ合衆国の男優\\nシカゴ出身の人物\\n1962年生\\n2023年没'}\n"
     ]
    }
   ],
   "source": [
    "#datasetの中身を確認してみます｡\n",
    "#各recordは辞書形式になっています｡大切なのは､ textです｡\n",
    "for data in dataset_list[0]:\n",
    "    break\n",
    "print(data)"
   ]
  },
  {
   "cell_type": "code",
   "execution_count": 38,
   "metadata": {},
   "outputs": [
    {
     "name": "stdout",
     "output_type": "stream",
     "text": [
      "jsonl file ../../data/integrated_text.jsonl already exists. Overwrite? (y/n)\n",
      "overwriting files...\n",
      "Dataset({\n",
      "    features: ['id', 'url', 'title', 'text'],\n",
      "    num_rows: 1395760\n",
      "})\n"
     ]
    },
    {
     "name": "stderr",
     "output_type": "stream",
     "text": [
      "  7%|▋         | 100000/1395760 [00:06<01:28, 14561.85it/s]\n"
     ]
    }
   ],
   "source": [
    "# 各datasetをmergeして､一つのjsonlにまとめます｡\n",
    "# ファイルは output_pathに生成されます\n",
    "# 各datasetは予めクリーニング, dedupされている必要があります｡\n",
    "#TODO: BTMのため､ジャンル別にデータを並べ替えたい\n",
    "\n",
    "if os.path.exists(output_path):\n",
    "    print(f\"jsonl file {output_path} already exists. Overwrite? (y/n)\")\n",
    "    ans=input()\n",
    "\n",
    "    if ans==\"y\" or \"Y\":\n",
    "        overwrite=True\n",
    "        print(\"overwriting files...\")\n",
    "        with open(output_path,\"w\") as f:\n",
    "            f.write(\"\")\n",
    "    else:\n",
    "        overwrite=False\n",
    "        print(\"aborted.\")\n",
    "if overwrite:\n",
    "    with open(output_path,\"a\") as f:\n",
    "        for dataset in dataset_list:\n",
    "            print(dataset)\n",
    "            cnt=0\n",
    "            for data in tqdm(dataset):\n",
    "                out_text=json.dumps({\"text\":data[\"text\"]}, ensure_ascii=False)\n",
    "                #jsonlで書き出し\n",
    "\n",
    "                f.write(out_text+\"\\n\") \n",
    "\n",
    "                cnt+=1\n",
    "                if cnt>max_records:\n",
    "                    break"
   ]
  }
 ],
 "metadata": {
  "kernelspec": {
   "display_name": "scr",
   "language": "python",
   "name": "python3"
  },
  "language_info": {
   "codemirror_mode": {
    "name": "ipython",
    "version": 3
   },
   "file_extension": ".py",
   "mimetype": "text/x-python",
   "name": "python",
   "nbconvert_exporter": "python",
   "pygments_lexer": "ipython3",
   "version": "3.11.8"
  }
 },
 "nbformat": 4,
 "nbformat_minor": 2
}
