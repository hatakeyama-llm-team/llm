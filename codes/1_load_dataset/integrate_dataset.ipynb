{
 "cells": [
  {
   "cell_type": "code",
   "execution_count": 6,
   "metadata": {},
   "outputs": [],
   "source": [
    "# 種々のdatasetをintagrateします"
   ]
  },
  {
   "cell_type": "code",
   "execution_count": 7,
   "metadata": {},
   "outputs": [
    {
     "name": "stdout",
     "output_type": "stream",
     "text": [
      "{'output_path': '../../data/integrated_text.jsonl', 'max_records': 100000}\n"
     ]
    }
   ],
   "source": [
    "from datasets import load_dataset\n",
    "import json\n",
    "import os\n",
    "from tqdm import tqdm\n",
    "import yaml\n",
    "\n",
    "with open('config.yaml', 'r') as file:\n",
    "    conf= yaml.safe_load(file)\n",
    "output_path=conf[\"output_path\"]\n",
    "max_records=conf[\"max_records\"]\n",
    "print(conf)"
   ]
  },
  {
   "cell_type": "code",
   "execution_count": 8,
   "metadata": {},
   "outputs": [],
   "source": [
    "#ここでは例として､日英のwikipediaを読み込んでみます\n",
    "dataset_list = [\n",
    "    load_dataset(\"hpprc/wikipedia-20240101\", split=\"train\").shuffle(), #日本語\n",
    "    #load_dataset(\"wikipedia\", \"20220301.en\").shuffle(), #英語\n",
    "]"
   ]
  },
  {
   "cell_type": "code",
   "execution_count": 9,
   "metadata": {},
   "outputs": [
    {
     "name": "stdout",
     "output_type": "stream",
     "text": [
      "{'id': '4797736', 'url': 'https://ja.wikipedia.org/wiki/2023%E5%B9%B4%E3%81%AEMLB%E3%82%AA%E3%83%BC%E3%83%AB%E3%82%B9%E3%82%BF%E3%83%BC%E3%82%B2%E3%83%BC%E3%83%A0', 'title': '2023年のMLBオールスターゲーム', 'text': 'のMLBオールスターゲーム（英語: The 2023 Major League Baseball All-Star Game）は、アメリカンリーグとナショナルリーグの間で行われた93回目のオールスターゲームである。2023年7月11日にシアトル・マリナーズの本拠地T-モバイル・パークで行われた。監督は、ナショナル・リーグはフィラデルフィア・フィリーズのロブ・トムソン、アメリカン・リーグはヒューストン・アストロズのダスティ・ベイカーが務める。\\n\\n経緯 \\nT-モバイル・パークで開催されるのは2001年以来2度目となる。\\n\\n凡例 \\n\\n \\n 表中のチーム名の略称についてはチームの表記参照。\\n †：出場辞退 ‡：代替選出\\n\\n選出選手\\n\\n投票選出選手一覧\\n\\n投手\\n\\n野手\\n\\n先発出場選手\\n\\n試合経過\\n\\nMVP \\n エリアス・ディアス（COL）\\n8回表に逆転2点本塁打を記録。\\n\\n脚注 \\n\\n2023\\nおおるすたあけえむ\\n2023年のワシントン州のスポーツ\\nシアトルのスポーツ競技大会\\n2023年7月'}\n"
     ]
    }
   ],
   "source": [
    "#datasetの中身を確認してみます｡\n",
    "#各recordは辞書形式になっています｡大切なのは､ textです｡\n",
    "for data in dataset_list[0]:\n",
    "    break\n",
    "print(data)"
   ]
  },
  {
   "cell_type": "code",
   "execution_count": 10,
   "metadata": {},
   "outputs": [
    {
     "name": "stdout",
     "output_type": "stream",
     "text": [
      "jsonl file ../../data/integrated_text.jsonl already exists. Overwrite? (y/n)\n",
      "overwriting files...\n",
      "Dataset({\n",
      "    features: ['id', 'url', 'title', 'text'],\n",
      "    num_rows: 1395760\n",
      "})\n"
     ]
    },
    {
     "name": "stderr",
     "output_type": "stream",
     "text": [
      "  7%|▋         | 100000/1395760 [00:07<01:35, 13610.22it/s]\n"
     ]
    }
   ],
   "source": [
    "# 各datasetをmergeして､一つのjsonlにまとめます｡\n",
    "# ファイルは output_pathに生成されます\n",
    "# 各datasetは予めクリーニング, dedupされている必要があります｡\n",
    "#TODO: BTMのため､ジャンル別にデータを並べ替えたい\n",
    "\n",
    "if os.path.exists(output_path):\n",
    "    print(f\"jsonl file {output_path} already exists. Overwrite? (y/n)\")\n",
    "    ans=input()\n",
    "\n",
    "    if ans==\"y\" or \"Y\":\n",
    "        overwrite=True\n",
    "        print(\"overwriting files...\")\n",
    "        with open(output_path,\"w\") as f:\n",
    "            f.write(\"\")\n",
    "    else:\n",
    "        overwrite=False\n",
    "        print(\"aborted.\")\n",
    "if overwrite:\n",
    "    with open(output_path,\"a\") as f:\n",
    "        for dataset in dataset_list:\n",
    "            print(dataset)\n",
    "            cnt=0\n",
    "            for data in tqdm(dataset):\n",
    "                out_text=json.dumps({\"text\":data[\"text\"]}, ensure_ascii=False)\n",
    "                #jsonlで書き出し\n",
    "\n",
    "                f.write(out_text+\"\\n\") \n",
    "\n",
    "                cnt+=1\n",
    "                if cnt>max_records:\n",
    "                    break"
   ]
  }
 ],
 "metadata": {
  "kernelspec": {
   "display_name": "scr",
   "language": "python",
   "name": "python3"
  },
  "language_info": {
   "codemirror_mode": {
    "name": "ipython",
    "version": 3
   },
   "file_extension": ".py",
   "mimetype": "text/x-python",
   "name": "python",
   "nbconvert_exporter": "python",
   "pygments_lexer": "ipython3",
   "version": "3.11.8"
  }
 },
 "nbformat": 4,
 "nbformat_minor": 2
}
