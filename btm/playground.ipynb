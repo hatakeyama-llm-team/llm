{
 "cells": [
  {
   "cell_type": "code",
   "execution_count": 1,
   "metadata": {},
   "outputs": [
    {
     "name": "stderr",
     "output_type": "stream",
     "text": [
      "/home/hatakeyama/miniconda3/envs/llmeval/lib/python3.11/site-packages/tqdm/auto.py:21: TqdmWarning: IProgress not found. Please update jupyter and ipywidgets. See https://ipywidgets.readthedocs.io/en/stable/user_install.html\n",
      "  from .autonotebook import tqdm as notebook_tqdm\n"
     ]
    }
   ],
   "source": [
    "from datasets import load_dataset\n",
    "\n",
    "streaming = True\n",
    "\n",
    "\n",
    "def wiki_ja_loader():\n",
    "    return load_dataset(\"hpprc/wikipedia-20240101\", split=\"train\",\n",
    "                        streaming=streaming\n",
    "                        ).shuffle()\n",
    "\n"
   ]
  },
  {
   "cell_type": "code",
   "execution_count": 2,
   "metadata": {},
   "outputs": [],
   "source": [
    "loader=iter(wiki_ja_loader())"
   ]
  },
  {
   "cell_type": "code",
   "execution_count": 48,
   "metadata": {},
   "outputs": [],
   "source": [
    "noise_strings=\"\"\"\n",
    "存命人物\n",
    "関連人物\n",
    "脚注\n",
    "参考文献 \n",
    "\"\"\"\n",
    "\n",
    "def clean_text(txt):\n",
    "    txt=txt.replace(\"\\n\\n\",\"\\n\")\n",
    "    lines=txt.split(\"\\n\")\n",
    "    cleaned_lines=[]\n",
    "    touten_flag=False\n",
    "\n",
    "    for line in lines[::-1]:\n",
    "        if line.endswith(\"。\"):\n",
    "            touten_flag=True\n",
    "        if touten_flag:\n",
    "            cleaned_lines.append(line)\n",
    "\n",
    "    cleaned_lines=cleaned_lines[::-1]\n",
    "\n",
    "\n",
    "    noise_list=noise_strings.strip().split(\"\\n\")\n",
    "\n",
    "    cleaned_lines2=[]\n",
    "    stop_flag=False\n",
    "    for line in cleaned_lines:\n",
    "        for word in noise_list:\n",
    "            if word in line:\n",
    "                stop_flag=True\n",
    "        if stop_flag:\n",
    "            break\n",
    "        cleaned_lines2.append(line)\n",
    "\n",
    "    return \"\\n\".join(cleaned_lines2)"
   ]
  },
  {
   "cell_type": "code",
   "execution_count": 53,
   "metadata": {},
   "outputs": [],
   "source": [
    "class CleanedJapaneseWikiDataset:\n",
    "    def __init__(self,streaming=True):\n",
    "        self.dataset=load_dataset(\"hpprc/wikipedia-20240101\", split=\"train\",\n",
    "                                streaming=streaming\n",
    "                                ).shuffle()\n",
    "        self.loader=iter(self.dataset)\n",
    "\n",
    "    def __iter__(self):\n",
    "        # イテレータは自分自身を返す\n",
    "        return self\n",
    "\n",
    "    def __next__(self):\n",
    "        d=next(self.loader)\n",
    "        d[\"text\"]=clean_text(d[\"text\"])\n",
    "        return d"
   ]
  },
  {
   "cell_type": "code",
   "execution_count": 54,
   "metadata": {},
   "outputs": [],
   "source": [
    "dataset=CleanedJapaneseWikiDataset()"
   ]
  },
  {
   "cell_type": "code",
   "execution_count": 55,
   "metadata": {},
   "outputs": [],
   "source": [
    "loader=iter(dataset)"
   ]
  },
  {
   "cell_type": "code",
   "execution_count": 56,
   "metadata": {},
   "outputs": [
    {
     "data": {
      "text/plain": [
       "{'id': '1584951',\n",
       " 'url': 'https://ja.wikipedia.org/wiki/%E8%97%A4%E5%8E%9F%E9%80%9A%E5%9F%BA%20%28%E5%A4%A7%E8%94%B5%E5%8D%BF%29',\n",
       " 'title': '藤原通基 (大蔵卿)',\n",
       " 'text': '藤原 通基（ふじわら の みちもと）は、平安時代後期の貴族。能登守・藤原基頼の次男。官位は正四位下・大蔵卿。持明院 通基とも呼ばれる。\\n経歴 \\n白河院政期末から鳥羽院政期前半にかけて、武蔵守・因幡守・丹波守と受領を歴任したほか、左京権大夫を務める。鳥羽院政期後半の康治2年（1143年）頃には大蔵卿に任ぜられている。久安4年（1148年）10月10日卒去。享年59。\\n天治年間（1124年-1126年）において、父の基頼が創建した持仏堂である持明院を改築・拡張して、安楽光院と改名。鳥羽上皇を招いて盛大な供養を行った。これ以降「持明院」の名称はその邸宅の名として残り、またその家の家号ともなった。三男の基家がこれを継承し、その子孫は羽林家の持明院家として発展した。\\n官歴 \\n大治2年（1127年） 正月3日：見武蔵守。12月7日：因幡守\\n大治5年（1130年） 正月6日：正五位下\\n長承3年（1134年） 8月13日：見丹波守\\n保延元年（1135年） 5月：見左京権大夫兼丹波守\\n康治2年（1143年） 7月11日：見大蔵卿\\n久安4年（1148年） 10月10日：卒去\\n系譜 \\n『尊卑分脈』による。'}"
      ]
     },
     "execution_count": 56,
     "metadata": {},
     "output_type": "execute_result"
    }
   ],
   "source": [
    "next(loader)"
   ]
  },
  {
   "cell_type": "code",
   "execution_count": null,
   "metadata": {},
   "outputs": [],
   "source": []
  }
 ],
 "metadata": {
  "kernelspec": {
   "display_name": "llmeval",
   "language": "python",
   "name": "python3"
  },
  "language_info": {
   "codemirror_mode": {
    "name": "ipython",
    "version": 3
   },
   "file_extension": ".py",
   "mimetype": "text/x-python",
   "name": "python",
   "nbconvert_exporter": "python",
   "pygments_lexer": "ipython3",
   "version": "3.11.8"
  }
 },
 "nbformat": 4,
 "nbformat_minor": 2
}
