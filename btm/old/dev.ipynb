{
 "cells": [
  {
   "cell_type": "code",
   "execution_count": 1,
   "metadata": {},
   "outputs": [],
   "source": [
    "# btmのrootingの練習をする\n",
    "\n",
    "%load_ext autoreload\n",
    "%autoreload 2"
   ]
  },
  {
   "cell_type": "code",
   "execution_count": 2,
   "metadata": {},
   "outputs": [
    {
     "name": "stderr",
     "output_type": "stream",
     "text": [
      "/home/hatakeyama/miniconda3/envs/llmeval/lib/python3.11/site-packages/tqdm/auto.py:21: TqdmWarning: IProgress not found. Please update jupyter and ipywidgets. See https://ipywidgets.readthedocs.io/en/stable/user_install.html\n",
      "  from .autonotebook import tqdm as notebook_tqdm\n"
     ]
    }
   ],
   "source": [
    "from transformers import AutoModelForCausalLM, AutoTokenizer,pipeline\n",
    "import numpy as np\n",
    "\n",
    "from PerplexityMoE import PerplexityMoE"
   ]
  },
  {
   "cell_type": "code",
   "execution_count": 4,
   "metadata": {},
   "outputs": [],
   "source": [
    "import torch\n",
    "moe=PerplexityMoE()\n",
    "\n",
    "\n",
    "model_name_list =[ \n",
    "    \"../models/hf/0316mix_part1_eng\",\n",
    "    \"../models/hf/0316mix_part2_mc4\",\n",
    "    \"../models/hf/0316mix_fin\",\n",
    "                  ]\n",
    "\n",
    "for model_name in model_name_list:\n",
    "    tokenizer = AutoTokenizer.from_pretrained(model_name)\n",
    "    model = AutoModelForCausalLM.from_pretrained(\n",
    "        model_name, device_map=\"auto\",\n",
    "        torch_dtype=torch.float16\n",
    "    )\n",
    "\n",
    "    moe.append_ELM(model,tokenizer)"
   ]
  },
  {
   "cell_type": "code",
   "execution_count": 22,
   "metadata": {},
   "outputs": [
    {
     "data": {
      "text/plain": [
       "295.25"
      ]
     },
     "execution_count": 22,
     "metadata": {},
     "output_type": "execute_result"
    }
   ],
   "source": [
    "text=\"こんにちは､元気ですか\"\n",
    "\n",
    "\n",
    "tokenized_input = tokenizer.encode(\n",
    "    text, add_special_tokens=False, return_tensors=\"pt\"\n",
    ").to(model.device)\n",
    "with torch.inference_mode():\n",
    "    output = model(tokenized_input, labels=tokenized_input[:])\n",
    "ppl = torch.exp(output.loss)\n",
    "ppl.item()\n",
    "#tokenized_input"
   ]
  },
  {
   "cell_type": "code",
   "execution_count": 19,
   "metadata": {},
   "outputs": [
    {
     "data": {
      "text/plain": [
       "torch.Size([1, 5, 65024])"
      ]
     },
     "execution_count": 19,
     "metadata": {},
     "output_type": "execute_result"
    }
   ],
   "source": [
    "output.logits.shape"
   ]
  },
  {
   "cell_type": "code",
   "execution_count": 47,
   "metadata": {},
   "outputs": [
    {
     "name": "stderr",
     "output_type": "stream",
     "text": [
      "/home/hatakeyama/miniconda3/envs/llmeval/lib/python3.11/site-packages/transformers/pipelines/base.py:1101: UserWarning: You seem to be using the pipelines sequentially on GPU. In order to maximize efficiency please use a dataset\n",
      "  warnings.warn(\n",
      "Setting `pad_token_id` to `eos_token_id`:50256 for open-end generation.\n"
     ]
    },
    {
     "name": "stdout",
     "output_type": "stream",
     "text": [
      "\n",
      "\n",
      "-----\n",
      "input:  hello, I'm John\n",
      "perplexity list\n",
      "0 302.25\n",
      "1 222.75\n",
      "2 161.75\n",
      "model id 2 is used\n"
     ]
    },
    {
     "name": "stderr",
     "output_type": "stream",
     "text": [
      "Setting `pad_token_id` to `eos_token_id`:50256 for open-end generation.\n"
     ]
    },
    {
     "name": "stdout",
     "output_type": "stream",
     "text": [
      "response:  hello, I'm John.\n",
      "\n",
      "In 1986 the film was remade as The Last of Us (with a new title) and starred Michael Caine in his first leading role on Broadway at New York City’s Globe Theatre Festival where it ran for two seasons before being transferred to Los Angeles after its run by David Letterman from San Francisco Opera Company with Robert Redford Jr. It received an Oscar nomination that same year but lost outright when director Mark Levinson left him due $25\n",
      "\n",
      "\n",
      "-----\n",
      "input:  今日は晴れてるから\n",
      "perplexity list\n",
      "0 411.5\n",
      "1 278.25\n",
      "2 358.75\n",
      "model id 1 is used\n"
     ]
    },
    {
     "name": "stderr",
     "output_type": "stream",
     "text": [
      "Setting `pad_token_id` to `eos_token_id`:50256 for open-end generation.\n"
     ]
    },
    {
     "name": "stdout",
     "output_type": "stream",
     "text": [
      "response:  今日は晴れてるから、いい天気だ。\n",
      "2016年5月3日 (水) | 固定リンク 【楽天市場】ドレス(カラー:ブラック×サイズ(S/M):L×胸囲(cm):89 ～ 91×号数(女性):7号×洋服の丈:ミディ・ミディアムテイスト×ファッションテイスト:フォーマル×素材の種類:パーティードレス×柄:刺繍) | 人気ランキング1位～(売れ筋商品) - 週間ランキング\n",
      "楽天市場トップ > ランキングトップ > レディースファッション >\n",
      "\n",
      "\n",
      "-----\n",
      "input:  ブログを書きました\n",
      "perplexity list\n",
      "0 1127.0\n",
      "1 620.0\n",
      "2 793.0\n",
      "model id 1 is used\n"
     ]
    },
    {
     "name": "stderr",
     "output_type": "stream",
     "text": [
      "Setting `pad_token_id` to `eos_token_id`:50256 for open-end generation.\n"
     ]
    },
    {
     "name": "stdout",
     "output_type": "stream",
     "text": [
      "response:  ブログを書きました。\n",
      "2016-09-30(日) | 編集 | コメント (4)| トラックバック (0) 【楽天市場】ドレスの素材ポリエステル・リネン:刺繍の種類全5色 レディース ファッションテイスト セレカジ系 キレカワ系 シンプル ナチュラルテイスト ガーリー フェミニン セクシー セレブスタイル 原宿系 お兄系 プリンセスライン 姫系 大人可愛い おしゃれ エレガント 上品 きれいめ 体型カバー 春 夏服 秋物 冬\n",
      "\n",
      "\n",
      "-----\n",
      "input:  global warming \n",
      "perplexity list\n",
      "0 274.0\n",
      "1 258.5\n",
      "2 201.25\n",
      "model id 2 is used\n"
     ]
    },
    {
     "name": "stderr",
     "output_type": "stream",
     "text": [
      "Setting `pad_token_id` to `eos_token_id`:50256 for open-end generation.\n"
     ]
    },
    {
     "name": "stdout",
     "output_type": "stream",
     "text": [
      "response:  global warming \n",
      "The climate of the region is very cool and humid. The temperature in this area can be quite cold, but it's not as hot or dry because there are many wind blown from a nearby mountain range to keep up with rain until late summer when temperatures rise above freezing point during winter months (which makes for an extremely pleasant atmosphere). This means that we have been able to see all weather conditions on our own since at least one year ago; however these factors make us feel comfortable\n",
      "\n",
      "\n",
      "-----\n",
      "input:  地球温暖化を防ぐに\n",
      "perplexity list\n",
      "0 10648.0\n",
      "1 4372.0\n",
      "2 3174.0\n",
      "model id 2 is used\n"
     ]
    },
    {
     "name": "stderr",
     "output_type": "stream",
     "text": [
      "Setting `pad_token_id` to `eos_token_id`:50256 for open-end generation.\n"
     ]
    },
    {
     "name": "stdout",
     "output_type": "stream",
     "text": [
      "response:  地球温暖化を防ぐに、その対策は?\n",
      "2018年5月3日(木)の「エコノミスト」の記事で紹介した、「地球温暖化防止のための行動指針」(以下、ガイドラインと略記する。)について紹介します。「地球温暖化を防止するための行動指針」とは、環境省が毎年発行している『環境白書』や、『地球環境問題に関する意識調査』(平成9年度～令和元年度)、そして、経済産業省による『省エネ・省エネルギー基準等検討会報告書』などをまとめたものになります。『環境\n",
      "\n",
      "\n",
      "-----\n",
      "input:  ガリレオによるピサの斜塔実験とは\n",
      "perplexity list\n",
      "0 1589.0\n",
      "1 459.0\n",
      "2 159.875\n",
      "model id 2 is used\n"
     ]
    },
    {
     "name": "stderr",
     "output_type": "stream",
     "text": [
      "Setting `pad_token_id` to `eos_token_id`:50256 for open-end generation.\n"
     ]
    },
    {
     "name": "stdout",
     "output_type": "stream",
     "text": [
      "response:  ガリレオによるピサの斜塔実験とは、1980年(昭和55)に始まった。\n",
      "\n",
      "このプロジェクトは、2つの主要な目的があった。ひとつ目は、ガリレオが「ガリレイ・タワー」の建設を計画するきっかけとなった、17世紀のヴェネツィアで起こった地震と津波の研究である。「ガリレオ・タワー」建設の目的は、「地震や洪水などの自然災害から身を守ること」、「地震によって建物内の空間構造が変化しないこと」「地震により建物の倒壊を防ぐために耐震性を高めることなど」であった。もう一つ\n",
      "\n",
      "\n",
      "-----\n",
      "input:  英語: He is a good man. 日本語: \n",
      "perplexity list\n",
      "0 115.5625\n",
      "1 64.3125\n",
      "2 49.3125\n",
      "model id 2 is used\n",
      "response:  英語: He is a good man. 日本語: 1985年04月26日\n",
      "【翻訳】 「私は、この国で何をしたいのか」と聞かれたら、「それは、私がやりたいことじゃない。ただの遊びだ!」と答えた人は、その通りです。「あなたは私のことを好きですか?」という質問に、「あなたが好きなのはあなただけではありませんよ!」「あなたのことが好きですか?それとも嫌いでしょうか?」といったように答えてみてください。\n",
      "また、自分の意見を述べても構いませんが、相手の考えていることはよく\n"
     ]
    }
   ],
   "source": [
    "#moe.set_coefs(np.array([1,0.5,1]))\n",
    "moe.set_coefs([1,1,1])\n",
    "\n",
    "text_list=[\n",
    "    \"hello, I'm John\",\n",
    "    \"今日は晴れてるから\",\n",
    "    \"ブログを書きました\",\n",
    "    \"global warming \",\n",
    "    \"地球温暖化を防ぐに\",\n",
    "    \"ガリレオによるピサの斜塔実験とは\",\n",
    "    \"英語: He is a good man. 日本語: \",\n",
    "      ]\n",
    "response_list=[]\n",
    "ppl_list=[]\n",
    "model_list=[]\n",
    "for text in text_list:\n",
    "    print(\"\\n\\n-----\")\n",
    "    print(\"input: \", text)\n",
    "    response,ppl,model_id=moe.ask(text)\n",
    "    print(\"response: \",response)\n",
    "    response_list.append(response)\n",
    "    ppl_list.append(ppl)\n",
    "    model_list.append(model_id)"
   ]
  },
  {
   "cell_type": "code",
   "execution_count": 48,
   "metadata": {},
   "outputs": [
    {
     "data": {
      "text/html": [
       "<div>\n",
       "<style scoped>\n",
       "    .dataframe tbody tr th:only-of-type {\n",
       "        vertical-align: middle;\n",
       "    }\n",
       "\n",
       "    .dataframe tbody tr th {\n",
       "        vertical-align: top;\n",
       "    }\n",
       "\n",
       "    .dataframe thead th {\n",
       "        text-align: right;\n",
       "    }\n",
       "</style>\n",
       "<table border=\"1\" class=\"dataframe\">\n",
       "  <thead>\n",
       "    <tr style=\"text-align: right;\">\n",
       "      <th></th>\n",
       "      <th>Input</th>\n",
       "      <th>Response</th>\n",
       "      <th>PPL_List</th>\n",
       "      <th>model id</th>\n",
       "    </tr>\n",
       "  </thead>\n",
       "  <tbody>\n",
       "    <tr>\n",
       "      <th>0</th>\n",
       "      <td>hello, I'm John</td>\n",
       "      <td>hello, I'm John.\\n\\nIn 1986 the film was remad...</td>\n",
       "      <td>[302, 222, 161]</td>\n",
       "      <td>2</td>\n",
       "    </tr>\n",
       "    <tr>\n",
       "      <th>1</th>\n",
       "      <td>今日は晴れてるから</td>\n",
       "      <td>今日は晴れてるから、いい天気だ。\\n2016年5月3日 (水) | 固定リンク 【楽天市場】...</td>\n",
       "      <td>[411, 278, 358]</td>\n",
       "      <td>1</td>\n",
       "    </tr>\n",
       "    <tr>\n",
       "      <th>2</th>\n",
       "      <td>ブログを書きました</td>\n",
       "      <td>ブログを書きました。\\n2016-09-30(日) | 編集 | コメント (4)| トラッ...</td>\n",
       "      <td>[1127, 620, 793]</td>\n",
       "      <td>1</td>\n",
       "    </tr>\n",
       "    <tr>\n",
       "      <th>3</th>\n",
       "      <td>global warming</td>\n",
       "      <td>global warming \\nThe climate of the region is ...</td>\n",
       "      <td>[274, 258, 201]</td>\n",
       "      <td>2</td>\n",
       "    </tr>\n",
       "    <tr>\n",
       "      <th>4</th>\n",
       "      <td>地球温暖化を防ぐに</td>\n",
       "      <td>地球温暖化を防ぐに、その対策は?\\n2018年5月3日(木)の「エコノミスト」の記事で紹介し...</td>\n",
       "      <td>[10648, 4372, 3174]</td>\n",
       "      <td>2</td>\n",
       "    </tr>\n",
       "    <tr>\n",
       "      <th>5</th>\n",
       "      <td>ガリレオによるピサの斜塔実験とは</td>\n",
       "      <td>ガリレオによるピサの斜塔実験とは、1980年(昭和55)に始まった。\\n\\nこのプロジェクト...</td>\n",
       "      <td>[1589, 459, 159]</td>\n",
       "      <td>2</td>\n",
       "    </tr>\n",
       "    <tr>\n",
       "      <th>6</th>\n",
       "      <td>英語: He is a good man. 日本語:</td>\n",
       "      <td>英語: He is a good man. 日本語: 1985年04月26日\\n【翻訳】 「...</td>\n",
       "      <td>[115, 64, 49]</td>\n",
       "      <td>2</td>\n",
       "    </tr>\n",
       "  </tbody>\n",
       "</table>\n",
       "</div>"
      ],
      "text/plain": [
       "                         Input  \\\n",
       "0              hello, I'm John   \n",
       "1                    今日は晴れてるから   \n",
       "2                    ブログを書きました   \n",
       "3              global warming    \n",
       "4                    地球温暖化を防ぐに   \n",
       "5             ガリレオによるピサの斜塔実験とは   \n",
       "6  英語: He is a good man. 日本語:    \n",
       "\n",
       "                                            Response             PPL_List  \\\n",
       "0  hello, I'm John.\\n\\nIn 1986 the film was remad...      [302, 222, 161]   \n",
       "1  今日は晴れてるから、いい天気だ。\\n2016年5月3日 (水) | 固定リンク 【楽天市場】...      [411, 278, 358]   \n",
       "2  ブログを書きました。\\n2016-09-30(日) | 編集 | コメント (4)| トラッ...     [1127, 620, 793]   \n",
       "3  global warming \\nThe climate of the region is ...      [274, 258, 201]   \n",
       "4  地球温暖化を防ぐに、その対策は?\\n2018年5月3日(木)の「エコノミスト」の記事で紹介し...  [10648, 4372, 3174]   \n",
       "5  ガリレオによるピサの斜塔実験とは、1980年(昭和55)に始まった。\\n\\nこのプロジェクト...     [1589, 459, 159]   \n",
       "6  英語: He is a good man. 日本語: 1985年04月26日\\n【翻訳】 「...        [115, 64, 49]   \n",
       "\n",
       "   model id  \n",
       "0         2  \n",
       "1         1  \n",
       "2         1  \n",
       "3         2  \n",
       "4         2  \n",
       "5         2  \n",
       "6         2  "
      ]
     },
     "execution_count": 48,
     "metadata": {},
     "output_type": "execute_result"
    }
   ],
   "source": [
    "import pandas as pd\n",
    "# DataFrameを初期化（ppl_listを文字列で保存するための列も追加）\n",
    "# 各行のデータを保存するためのリストを初期化\n",
    "data = []\n",
    "\n",
    "# テキストリストをループし、各テキストに対する応答とppl_listを取得\n",
    "for text,response,ppl in zip(text_list,response_list,ppl_list):\n",
    "    ppl=[int(i) for i in ppl]\n",
    "    data.append([text, response, ppl])\n",
    "\n",
    "# リストからDataFrameを作成\n",
    "df = pd.DataFrame(data, columns=['Input', 'Response', 'PPL_List'])\n",
    "df[\"model id\"]=model_list\n",
    "# DataFrameを表示\n",
    "df"
   ]
  },
  {
   "cell_type": "code",
   "execution_count": 37,
   "metadata": {},
   "outputs": [
    {
     "data": {
      "text/plain": [
       "[]"
      ]
     },
     "execution_count": 37,
     "metadata": {},
     "output_type": "execute_result"
    }
   ],
   "source": [
    "data"
   ]
  },
  {
   "cell_type": "code",
   "execution_count": 39,
   "metadata": {},
   "outputs": [
    {
     "data": {
      "text/plain": [
       "[]"
      ]
     },
     "execution_count": 39,
     "metadata": {},
     "output_type": "execute_result"
    }
   ],
   "source": [
    "response_list"
   ]
  },
  {
   "cell_type": "code",
   "execution_count": 46,
   "metadata": {},
   "outputs": [
    {
     "data": {
      "text/plain": [
       "2"
      ]
     },
     "execution_count": 46,
     "metadata": {},
     "output_type": "execute_result"
    }
   ],
   "source": [
    "model_Id"
   ]
  },
  {
   "cell_type": "code",
   "execution_count": null,
   "metadata": {},
   "outputs": [],
   "source": []
  }
 ],
 "metadata": {
  "kernelspec": {
   "display_name": "llmeval",
   "language": "python",
   "name": "python3"
  },
  "language_info": {
   "codemirror_mode": {
    "name": "ipython",
    "version": 3
   },
   "file_extension": ".py",
   "mimetype": "text/x-python",
   "name": "python",
   "nbconvert_exporter": "python",
   "pygments_lexer": "ipython3",
   "version": "3.11.8"
  }
 },
 "nbformat": 4,
 "nbformat_minor": 2
}
